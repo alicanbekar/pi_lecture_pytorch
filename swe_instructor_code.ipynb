{
 "cells": [
  {
   "cell_type": "markdown",
   "metadata": {},
   "source": [
    "## TODO\n",
    "* arrange order of material\n",
    "* ~~new task before any training: load some simulation data and visualize a simulation~~ **DONE**\n",
    "    * ~~image plot~~ **DONE**\n",
    "    * ~~v/z at a few times~~ **DONE**\n",
    "* include multiple ICs for supervised training\n",
    "* Update comparison visualization code to use a single whole simulation from the test set\n",
    "* ~~provide mask as an input channel always (even for unet)~~ **DONE**\n",
    "* ~~new first task: train without using fixed BCs using UnetBC~~\n",
    "  * ~~visualize results after training~~\n",
    "  * ~~image plots v/z ref/est/diff~~\n",
    "  * ~~plot v/z at some chosen time points (ref/est)~~\n",
    "  * scatter plot of delta v and delta z ref vs. est (over all locations / time points)\n",
    "* ~~rename updates to delta_zeta, delta_v~~ **DONE**\n",
    "* flux task\n",
    "  * ~~change flux output so z fluxes defined on vel points, velocities still as tendencies. keep BC constraint~~ **DONE**\n",
    "  * ~~standard output visualization for fluxnet~~\n",
    "  * compare overall error and total mass over time of fluxnet to BCnet\n",
    "* new task: hybrid net with supervised loss\n",
    "  * ~~inputs -> net -> flux -> zeta -> u. keep imposing BCs.~~ **DONE**\n",
    "  * ~~train on same supervised loss as before~~ **DONE**\n",
    "  * plots, comparisons, etc.\n",
    "* final task: unsupervised learning\n",
    "  * pde loss from $A\\zeta - b$\n",
    "  * use library of system states, randomly sample from these to generate each batch. restart with new random state when integrating past $t_\\text{max}$.\n",
    "* ~~remove order parameter (multiple inputs time steps)?~~ **DONE**\n",
    "* extra tasks: change hyperparams, multiple random seeds\n",
    "* open ended questions at end as discussion points\n",
    "* link to papers: unet, \n",
    "* further reading\n",
    "* student version\n",
    "* separate cell and markdown explanation of random seeding func\n",
    "* speed up dataset\n",
    "* denormalize all comparisons etc. to use original units using `denormalize_vals` method of dataset class\n",
    "* ~~A figure for problem definition is placed~~ **DONE**\n",
    "* figure out how to compare multiple runs in tensorboard\n",
    "* match colorlimits of error plots with colormaps\n",
    "* add simulation parameters to hybrid net instead of relying on local variables\n",
    "* reusable plotting functions"
   ]
  },
  {
   "cell_type": "code",
   "execution_count": null,
   "metadata": {},
   "outputs": [],
   "source": [
    "# Importing necessary libraries\n",
    "import h5py\n",
    "import torch\n",
    "import numpy as np\n",
    "import torch.nn as nn\n",
    "from torch.utils.data import Dataset\n",
    "from matplotlib import pyplot as plt\n",
    "\n",
    "%load_ext tensorboard"
   ]
  },
  {
   "cell_type": "markdown",
   "metadata": {},
   "source": [
    "## SW Equations and Custom Dataset for SW Simulation Data\n",
    "\n",
    "We are interested in solving the following form of Shallow Water Equations\n",
    "\n",
    "$$\\dfrac{\\partial v}{\\partial t} + \\dfrac{c_D}{h}v|v|+g\\dfrac{\\partial \\zeta}{\\partial x} = 0$$\n",
    "\n",
    "$$\\dfrac{\\partial \\zeta}{\\partial t} + \\dfrac{\\partial (vh)}{\\partial x}=0$$\n",
    "\n",
    "where $v(x, t)$ is the velocity, $ζ(x, t)$ is the positive or negative surface disturbance and $h(x, t) = \\zeta(x, t) + h_0$ is the total depth. $c_D$ and $g$ correspond to drag coefficient and graviational acceleration respectively. The first equation describes Newton's second law ($F=ma$) acting on a fluid parcel, while the second models mass conservation.\n",
    "\n",
    "<img src=\"SWE.png\" alt=\"drawing\" width=\"800\"/>\n",
    "\n",
    "The figure on the left shows the variables defining the SWEs. On the right, we see the staggered grid used to discretize velocity and height. Note that we have one more velocity point than height point.\n",
    "\n",
    "### Boundary conditions\n",
    "We work with closed \"dry\" boundaries, meaning no fluid flows in or out of the system and we have a Derichlet BC on $v$\n",
    "\n",
    "$$\n",
    "\\forall t: v(-L, t)= v(L, t) = 0\n",
    "$$\n",
    "\n",
    "### Initial conditions\n",
    "We work with \"Gaussian bell\" initial conditions\n",
    "$$\n",
    "\\zeta(x, 0) = \\frac{1}{\\sqrt{2\\pi\\sigma^2}} e^{-(x-\\mu)^2 / \\sigma^2}\n",
    "\\\\\n",
    "v(x, 0) = 0\n",
    "$$\n",
    "where the width and location of the bells are randomly distributed across simulations\n",
    "$$\n",
    "\\mu \\sim \\mathbf U(-L/2, L/2) \\\\\n",
    "\\sigma \\sim \\mathbf U(0.5, 2.5)\n",
    "$$"
   ]
  },
  {
   "cell_type": "markdown",
   "metadata": {},
   "source": [
    "## The problem we want to solve\n",
    "### Time integration of PDEs\n",
    "Given any **system state** at time $t$ for all locations $x$:\n",
    "$$\\forall x: \\left(v(x, t), \\zeta(x,t) \\right)$$\n",
    "we want to time-integrate the SWEs to obtain the system state at time $t+\\Delta$\n",
    "$$\\forall x:\\left(v(x, t+\\Delta t), \\zeta(x, t+\\Delta t) \\right) = \\left(\n",
    "\\int_t^{t+\\Delta t} \\frac{\\partial v(x, t)}{\\partial t}, \n",
    "\\int_t^{t+\\Delta t} \\frac{\\partial \\zeta(\\cdot,t)}{\\partial t}\n",
    "\\right) $$\n",
    "we will consider the case where we deal with initial conditions and time-integrated outputs only on an evenly spaced grid with spacing $\\Delta x$, and a fixed time step $\\Delta t$.\n",
    "\n",
    "\n",
    "### Classical PDE integration\n",
    "Classical physics-based numerical methods compute these updates by calculating partial derivatives in space and time. Explicit methods do these calculations at time steps where $v,\\zeta$ are already known, simplifying calculations but often requiring very small time steps to achieve accuracy and stability, often at high computational cost. (Semi)implicit methods can take larger time steps but most iteratively solve a system of equations at each time step until convergence, which can also be costly.\n",
    "\n",
    "We'll discuss the discretization and time stepping used to solve this PDE in one of our later tasks. For now, it's enough to know that we've generated some simulation data from numerical simulation code, and we'll use that data to train neural networks and as a \"ground truth\" reference.\n",
    "\n",
    "### Problem statement\n",
    "In this tutorial, our goal is to **train a neural network to carry out time integration of SWEs** by $\\Delta t$, such that the results match a semiimplicit scheme. By replacing the iterative solving operation of the numerical scheme with a forward pass through a neural network, we aim to produce a fast time-integration method whos computation time does not depend on the input data.\n",
    "\n",
    "While we will not focus on computation times here due to using simplified, lightweight 1-D versions of the numerical model and deep learning architecture, this technique has demonstrated impressive speed increases compared to classical numerical solvers when applied to 2D and 3D fluid dynamics."
   ]
  },
  {
   "cell_type": "markdown",
   "metadata": {},
   "source": [
    "## Dealing with the Dataset\n",
    "\n",
    "In this section, we'll import and use custom PyTorch class to load SWE simulation data from an HDF5 file. If you'd like to see how this class works later you can read through the code [here](https://github.com/alicanbekar/pi_lecture_pytorch/blob/main/sw_dataset.ipynb), but for now that isn't necessary. This dataset class is responsible for:\n",
    "1. Reading data from an HDF5 file.\n",
    "2. Normalizing the data, so that $\\zeta$ and $v$ both range from roughly -1 to 1.\n",
    "3. Splitting the data into training, validation, and testing datasets.\n",
    "4. Retrieving sequences of SWE system state to create inputs and outputs for the trained models.\n",
    "\n",
    "Run the next cell to install the necessary code and download the data."
   ]
  },
  {
   "cell_type": "code",
   "execution_count": null,
   "metadata": {},
   "outputs": [
    {
     "name": "stdout",
     "output_type": "stream",
     "text": [
      "\u001b[33mWARNING: Ignoring invalid distribution -outube-dl (/home/greenber/miniconda3/lib/python3.9/site-packages)\u001b[0m\u001b[33m\n",
      "\u001b[0m\u001b[33mWARNING: Ignoring invalid distribution -outube-dl (/home/greenber/miniconda3/lib/python3.9/site-packages)\u001b[0m\u001b[33m\n",
      "\u001b[0m\u001b[33mWARNING: Ignoring invalid distribution -outube-dl (/home/greenber/miniconda3/lib/python3.9/site-packages)\u001b[0m\u001b[33m\n",
      "\u001b[0m\u001b[33mWARNING: Ignoring invalid distribution -outube-dl (/home/greenber/miniconda3/lib/python3.9/site-packages)\u001b[0m\u001b[33m\n",
      "\u001b[0m\u001b[33mWARNING: Ignoring invalid distribution -outube-dl (/home/greenber/miniconda3/lib/python3.9/site-packages)\u001b[0m\u001b[33m\n",
      "\u001b[0m\u001b[33mWARNING: Ignoring invalid distribution -outube-dl (/home/greenber/miniconda3/lib/python3.9/site-packages)\u001b[0m\u001b[33m\n",
      "\u001b[0m--2023-09-20 12:27:25--  https://raw.githubusercontent.com/alicanbekar/pi_lecture_pytorch/main/sw_dataset.ipynb\n",
      "Resolving raw.githubusercontent.com (raw.githubusercontent.com)... 185.199.111.133, 185.199.110.133, 185.199.108.133, ...\n",
      "Connecting to raw.githubusercontent.com (raw.githubusercontent.com)|185.199.111.133|:443... connected.\n",
      "HTTP request sent, awaiting response... 200 OK\n",
      "Length: 10751 (10K) [text/plain]\n",
      "Saving to: ‘sw_dataset.ipynb.18’\n",
      "\n",
      "sw_dataset.ipynb.18 100%[===================>]  10.50K  --.-KB/s    in 0.03s   \n",
      "\n",
      "2023-09-20 12:27:25 (302 KB/s) - ‘sw_dataset.ipynb.18’ saved [10751/10751]\n",
      "\n",
      "--2023-09-20 12:27:26--  http://!wget/\n",
      "Resolving !wget (!wget)... failed: Name or service not known.\n",
      "wget: unable to resolve host address ‘!wget’\n",
      "--2023-09-20 12:27:26--  https://raw.githubusercontent.com/alicanbekar/pi_lecture_pytorch/main/simulation_data.h5\n",
      "Resolving raw.githubusercontent.com (raw.githubusercontent.com)... 185.199.111.133, 185.199.110.133, 185.199.108.133, ...\n",
      "Connecting to raw.githubusercontent.com (raw.githubusercontent.com)|185.199.111.133|:443... connected.\n",
      "HTTP request sent, awaiting response... 200 OK\n",
      "Length: 6044412 (5.8M) [application/octet-stream]\n",
      "Saving to: ‘simulation_data.h5.18’\n",
      "\n",
      "simulation_data.h5. 100%[===================>]   5.76M  6.77MB/s    in 0.9s    \n",
      "\n",
      "2023-09-20 12:27:27 (6.77 MB/s) - ‘simulation_data.h5.18’ saved [6044412/6044412]\n",
      "\n",
      "FINISHED --2023-09-20 12:27:27--\n",
      "Total wall clock time: 1.0s\n",
      "Downloaded: 1 files, 5.8M in 0.9s (6.77 MB/s)\n"
     ]
    }
   ],
   "source": [
    "!pip install -q import-ipynb\n",
    "import import_ipynb\n",
    "!wget https://raw.githubusercontent.com/alicanbekar/pi_lecture_pytorch/main/sw_dataset.ipynb\n",
    "!wget !wget https://raw.githubusercontent.com/alicanbekar/pi_lecture_pytorch/main/simulation_data.h5\n",
    "%run sw_dataset.ipynb"
   ]
  },
  {
   "cell_type": "markdown",
   "metadata": {},
   "source": [
    "## Task 1: Explore the data\n",
    "Run the following cells to retrieve and plot some data. We'll use the first simulation in the test set to evaluate our models visually."
   ]
  },
  {
   "cell_type": "code",
   "execution_count": null,
   "metadata": {},
   "outputs": [],
   "source": [
    "datafile = 'data.npz'\n",
    "train_data, val_data, test_data, stats = import_data(datafile)\n",
    "with np.load(datafile) as fid:\n",
    "    nsteps = fid['zeta'].shape[1]"
   ]
  },
  {
   "cell_type": "code",
   "execution_count": null,
   "metadata": {},
   "outputs": [],
   "source": [
    "zeta_in, zeta_ref, v_in, v_ref = test_data[:nsteps]  # first simulation in test set\n",
    "zeta_in, zeta_ref, v_in, v_ref = zeta_in.squeeze(1), zeta_ref.squeeze(1), v_in.squeeze(1), v_ref.squeeze(1)"
   ]
  },
  {
   "cell_type": "code",
   "execution_count": null,
   "metadata": {},
   "outputs": [],
   "source": [
    "def img_plot(x, title=None, showxax=True, showyax=True, cmap=None):\n",
    "    if cmap is None:\n",
    "        cmap = 'viridis'\n",
    "    plt.imshow(x.T, cmap=cmap)\n",
    "    if showxax:\n",
    "        plt.xlabel('Time step')\n",
    "    else:\n",
    "        plt.gca().get_xaxis().set_visible(False)\n",
    "    if showyax:\n",
    "        plt.ylabel('Position index')\n",
    "    else:\n",
    "        plt.gca().get_yaxis().set_visible(False)\n",
    "    plt.colorbar()\n",
    "    if title is not None:\n",
    "        plt.title(title)"
   ]
  },
  {
   "cell_type": "code",
   "execution_count": null,
   "metadata": {},
   "outputs": [
    {
     "data": {
      "image/png": "[encoded data removed]",
      "text/plain": [
       "<Figure size 640x480 with 4 Axes>"
      ]
     },
     "metadata": {},
     "output_type": "display_data"
    }
   ],
   "source": [
    "plt.subplot(2,1,1)\n",
    "img_plot(zeta_ref, title='$\\zeta$', showxax=False)\n",
    "plt.subplot(2,1,2)\n",
    "img_plot(v_ref, title='$v$')"
   ]
  },
  {
   "cell_type": "code",
   "execution_count": null,
   "metadata": {},
   "outputs": [
    {
     "data": {
      "image/png": "[encoded data removed]",
      "text/plain": [
       "<Figure size 1000x500 with 6 Axes>"
      ]
     },
     "metadata": {},
     "output_type": "display_data"
    }
   ],
   "source": [
    "tsteps = [0, 10, 120]\n",
    "plt.figure(figsize=(10, 5))\n",
    "for i, t in enumerate(tsteps):\n",
    "    plt.subplot(len(tsteps), 2, 2 * i + 1)\n",
    "    plt.plot(zeta_ref[t])\n",
    "    plt.ylabel(f't={t}', rotation=0, horizontalalignment='right')\n",
    "    if i == 0:\n",
    "        plt.title('$\\zeta$')\n",
    "    if i == len(tsteps) - 1:\n",
    "        plt.xlabel('time step')\n",
    "    plt.subplot(len(tsteps), 2, 2 * i + 2)\n",
    "    plt.plot(v_ref[t])\n",
    "    if i == 0:\n",
    "        plt.title('$v$')\n",
    "    if i == len(tsteps) - 1:\n",
    "        plt.xlabel('time step')"
   ]
  },
  {
   "cell_type": "markdown",
   "metadata": {},
   "source": [
    "## Task 2: Train a U-net for SWE time stepping\n",
    "\n",
    "U-Net is a convolutional neural network architecture primarily used for biomedical image segmentation. In our case, we will adapt U-Net to handle 1D data from the SW simulations. The original paper for the UNet architecture is:\n",
    "**Olaf Ronneberger, Philipp Fischer, & Thomas Brox. (2015). U-Net: Convolutional Networks for Biomedical Image Segmentation.**\n",
    "\n",
    "The U-Net architecture is symmetric, and it consists of an encoding (downsampling) path, followed by a decoding (upsampling) path. Skip connections are used to pass the information from the encoding path to the decoding path, which helps the network retain spatial details.\n",
    "\n",
    "Let's walk through the code and its structure:\n"
   ]
  },
  {
   "cell_type": "code",
   "execution_count": null,
   "metadata": {},
   "outputs": [],
   "source": [
    "class UNet(nn.Module):\n",
    "    def __init__(self):\n",
    "        super(UNet, self).__init__()\n",
    "        # this code defines all necessary network layers. for the order in which they're used, see the forward() method below.\n",
    "\n",
    "        # Initial convolution layers for two different input types\n",
    "        self.conv_zeta = nn.Conv1d(1, 8, kernel_size=3, padding=1)\n",
    "        self.conv_vel = nn.Conv1d(2, 8, kernel_size=4, padding=1)  # second channel is for boundary mask\n",
    "\n",
    "        # Encoder (downsampling) blocks\n",
    "        self.enc1 = self.u_net_block(16, 16)\n",
    "        self.enc2 = self.u_net_block(16, 32)\n",
    "        self.enc3 = self.u_net_block(32, 64)\n",
    "        self.enc4 = self.u_net_block(64, 128)\n",
    "        self.enc5 = self.u_net_block(128, 256)\n",
    "\n",
    "        # Pooling layer for downsampling\n",
    "        self.pool = nn.MaxPool1d(2)  # this layer reduces each channel's pixel count by half, by taking the max of neighboring pixels\n",
    "\n",
    "        # Upsampling layers\n",
    "        self.up1 = nn.ConvTranspose1d(256, 128, kernel_size=2, stride=2)\n",
    "        self.up2 = nn.ConvTranspose1d(128, 64, kernel_size=2, stride=2)\n",
    "        self.up3 = nn.ConvTranspose1d(64, 32, kernel_size=2, stride=2)\n",
    "        self.up4 = nn.ConvTranspose1d(32, 16, kernel_size=2, stride=2)\n",
    "\n",
    "        # Decoder (upsampling) blocks\n",
    "        self.dec1 = self.u_net_block(256, 128)\n",
    "        self.dec2 = self.u_net_block(128, 64)\n",
    "        self.dec3 = self.u_net_block(64, 32)\n",
    "        self.dec4 = self.u_net_block(32, 16)\n",
    "\n",
    "        # Output convolution layers\n",
    "        self.output_dec_zeta = nn.Conv1d(16, 1, kernel_size=3, padding=1)\n",
    "        self.output_dec_vel = nn.Conv1d(16, 1, kernel_size=2, padding=1)\n",
    "\n",
    "    def u_net_block(self, in_channels, out_channels):\n",
    "        \"\"\"\n",
    "        Creates a U-Net block with two convolution layers followed by batch normalization and ReLU activation.\n",
    "        \"\"\"\n",
    "        return nn.Sequential(\n",
    "            nn.Conv1d(in_channels, out_channels, kernel_size=3, padding=1),\n",
    "            nn.BatchNorm1d(out_channels),\n",
    "            nn.ReLU(),\n",
    "            nn.Conv1d(out_channels, out_channels, kernel_size=3, padding=1),\n",
    "            nn.BatchNorm1d(out_channels),\n",
    "            nn.ReLU(),\n",
    "        )\n",
    "\n",
    "    def forward(self, x_zeta, x_vel):\n",
    "        # compute the boundary mask\n",
    "        mask = torch.ones_like(x_vel).to(device)\n",
    "        mask[..., 0] = 0.0\n",
    "        mask[..., -1] = 0.0\n",
    "        x_vel_mask = torch.cat([x_vel, mask], dim=1)  # add the mask as an extra channel on velocity points\n",
    "        \n",
    "        # Initial convolution operations\n",
    "        x_zeta = self.conv_zeta(x_zeta)  # input and outputs on \\zeta grid\n",
    "        x_vel_mask = self.conv_vel(x_vel_mask)  # inputs (vel and boundary mask) on v grid, outputs on \\zeta grid\n",
    "\n",
    "        # Concatenate the two feature maps along the channel dimension\n",
    "        x_combined = torch.cat([x_vel_mask, x_zeta], dim=1)\n",
    "\n",
    "        # Encoding process\n",
    "        e1 = self.enc1(x_combined)\n",
    "        e2 = self.enc2(self.pool(e1))\n",
    "        e3 = self.enc3(self.pool(e2))\n",
    "        e4 = self.enc4(self.pool(e3))\n",
    "        e5 = self.enc5(self.pool(e4))\n",
    "\n",
    "        # Decoding process with skip connections\n",
    "        d1 = self.up1(e5)\n",
    "        d1 = torch.cat([d1, e4], dim=1)\n",
    "        d1 = self.dec1(d1)\n",
    "\n",
    "        d2 = self.up2(d1)\n",
    "        d2 = torch.cat([d2, e3], dim=1)\n",
    "        d2 = self.dec2(d2)\n",
    "\n",
    "        d3 = self.up3(d2)\n",
    "        d3 = torch.cat([d3, e2], dim=1)\n",
    "        d3 = self.dec3(d3)\n",
    "\n",
    "        d4 = self.up4(d3)\n",
    "        d4 = torch.cat([d4, e1], dim=1)\n",
    "        d4 = self.dec4(d4)\n",
    "\n",
    "        # Separate output convolutions\n",
    "        delta_zeta = self.output_dec_zeta(d4)\n",
    "        delta_vel = self.output_dec_vel(d4)\n",
    "        return delta_zeta, delta_vel"
   ]
  },
  {
   "cell_type": "markdown",
   "metadata": {},
   "source": [
    "### Key points:\n",
    "\n",
    "- **Input layers**: Recall that $\\zeta$ and $v$ are defined at different numbers of spatial locations due to the staggered grid we've used for discretization. To obtain activations of the same size after the input layers, we use different filter sizes for the convolutions applied to $\\zeta$ and $v$. The result is a unified set of channels with the same size as $\\zeta$.\n",
    "\n",
    "- **Boundary mask**: We will provide an extra channel of data on the $v$ points that is zero on the interior points, and one on the boundaries. This allows the network to modify its calculations near boundaries to account for reflecting waves etc.\n",
    "\n",
    "- **u_net_block**: This function returns a sequence of layers that performs two sets of (convolution -> batch normalization -> ReLU activation). We chain these operations using `nn.Sequential`.\n",
    "\n",
    "- **Encoder**: Remember, as you go deeper into the encoder, you are reducing the spatial dimensions (using max pooling) and typically increasing the number of channels.\n",
    "\n",
    "- **Decoder**: It's the reverse of the encoder. For each block, you will upsample to increase spatial dimensions and typically decrease the number of channels. Make sure to include the skip connections from the encoder. This can be done using torch's concatenation.\n",
    "\n",
    "- **Output Layers**: The goal is to transform the deep feature maps into our desired output. Depending on the task, this could be a segmentation mask, regression map, etc.\n",
    "\n",
    "Remember, the architecture of U-Net is symmetric. It might be helpful to sketch the network or list down the sizes of feature maps as you code.\n",
    "\n",
    "\n"
   ]
  },
  {
   "cell_type": "markdown",
   "metadata": {},
   "source": [
    "# Training the U-Net Model\n",
    "\n",
    "After defining our U-Net architecture, it's time to set up a training loop. This loop will iteratively update our model's weights using our dataset. Let's break down the steps needed:\n",
    "\n",
    "1. **Setting Up**: Import necessary libraries, define hyperparameters, initialize computational device, and set random seeds.\n",
    "2. **Data Loading**: Load the training and validation datasets and create data loaders.\n",
    "3. **Model & Training Essentials Initialization**: Create mask, model, optimizer, and loss function.\n",
    "4. **Training Loop**: For each epoch, forward propagate the input through the model, compute the loss, backpropagate the errors, and update the model weights.\n",
    "5. **Validation Loop**: After training for each epoch, we will evaluate the model's performance on the validation dataset.\n",
    "6. **Logging & Visualization**: Log metrics such as losses to TensorBoard.\n",
    "7. **Model Saving**: After all epochs are completed, save the model's state dict.\n",
    "\n",
    "Let's get started with the skeleton and explanations:\n"
   ]
  },
  {
   "cell_type": "code",
   "execution_count": null,
   "metadata": {},
   "outputs": [],
   "source": [
    "import torch.optim as optim\n",
    "from torch.utils.data import DataLoader\n",
    "from torch.utils.tensorboard import SummaryWriter\n",
    "import random"
   ]
  },
  {
   "cell_type": "markdown",
   "metadata": {},
   "source": [
    "### Step A: Setting Up\n",
    "\n",
    "First, we need to define some hyperparameters, which are constants that determine how the model will be trained. We also set a computational device (either a GPU or CPU) to ensure our tensors and model are loaded onto the right hardware.\n"
   ]
  },
  {
   "cell_type": "code",
   "execution_count": null,
   "metadata": {},
   "outputs": [],
   "source": [
    "# TODO: Define hyperparameters\n",
    "BATCH_SIZE = 32\n",
    "EPOCHS = 2\n",
    "LR = 0.001\n",
    "NUMTIME = 600  # time steps per simulation\n",
    "EXP_NAME = 'plain_time_integrator'\n",
    "\n",
    "# Initialize TensorBoard writer for logging\n",
    "log_dir = f'runs/exp_{EXP_NAME}'\n",
    "writer = SummaryWriter(log_dir=log_dir)\n",
    "device = torch.device(\"cuda\" if torch.cuda.is_available() else \"cpu\")\n",
    "\n",
    "def set_seeds(seed=42):\n",
    "    # This function ensures reproducibility\n",
    "    random.seed(seed)\n",
    "    np.random.seed(seed)\n",
    "    torch.manual_seed(seed)\n",
    "    if torch.cuda.is_available():\n",
    "        torch.cuda.manual_seed_all(seed)\n",
    "        torch.backends.cudnn.deterministic = True\n",
    "        torch.backends.cudnn.benchmark = False"
   ]
  },
  {
   "cell_type": "markdown",
   "metadata": {},
   "source": [
    "### Step B: Define data loaders\n",
    "\n",
    "Next, load the training and validation datasets. We also create data loaders that will allow us to fetch batches of data.\n"
   ]
  },
  {
   "cell_type": "code",
   "execution_count": null,
   "metadata": {},
   "outputs": [],
   "source": [
    "dataloader_train = DataLoader(train_data, batch_size=BATCH_SIZE, shuffle=True, drop_last=True)\n",
    "dataloader_valid = DataLoader(val_data, batch_size=BATCH_SIZE, shuffle=False, drop_last=True)"
   ]
  },
  {
   "cell_type": "markdown",
   "metadata": {},
   "source": [
    "### Step C: Initialize model, optimizer and loss\n",
    "\n",
    "Before training, initialize the model, the optimizer responsible for weight updates, and the loss function."
   ]
  },
  {
   "cell_type": "code",
   "execution_count": null,
   "metadata": {},
   "outputs": [],
   "source": [
    "#batch = next(iter(dataloader_train))\n",
    "#input_vel_batch = batch[0][1]\n",
    "#mask = torch.ones_like(input_vel_batch).to(device)\n",
    "#mask[..., 0] = 0\n",
    "#mask[..., -1] = 0\n",
    "#model = UNetBC(mask=mask).to(device)\n",
    "set_seeds(seed=42)\n",
    "model = UNet().to(device)  # instantiate the Unet we defined with random initial parameters\n",
    "optimizer = optim.Adam(model.parameters(), lr=LR)  # this is basically a fancy version of gradient descent\n",
    "criterion = torch.nn.MSELoss()  # we aim to minimize the mean square residual in normalized units"
   ]
  },
  {
   "cell_type": "markdown",
   "metadata": {},
   "source": [
    "### Step D: Run the Training/Validation Loop\n",
    "\n",
    "Running training loop involves:\n",
    "1. Setting the model to training mode.\n",
    "2. Iterating through batches of data from the dataloader, which randomly samples system states from our simulation dataset.\n",
    "3. Making predictions for the next time step using the model.\n",
    "4. Calculating the loss.\n",
    "5. Backpropagating to compute gradients.\n",
    "6. Updating model parameters using the optimizer.\n",
    "\n",
    "A single training *epoch* refers to training on all data points once. After each training epoch, you'll also run a validation loop to check the model's performance on unseen data. We will develop this training loop as a class which can take our UNet model as input, so when we make modifications to the architecture, we can still use this trainer.\n"
   ]
  },
  {
   "cell_type": "code",
   "execution_count": null,
   "metadata": {},
   "outputs": [],
   "source": [
    "def update_function(model, input_zeta, input_vel):\n",
    "    # this function predicts the next time step using the neural network\n",
    "    delta_zeta, delta_vel = model(input_zeta, input_vel)\n",
    "    output_zeta = input_zeta + delta_zeta\n",
    "    output_vel = input_vel + delta_vel\n",
    "    return output_zeta, output_vel"
   ]
  },
  {
   "cell_type": "code",
   "execution_count": null,
   "metadata": {},
   "outputs": [],
   "source": [
    "class UNetTrainer:\n",
    "    def __init__(self, model, device, dataloader_train, dataloader_valid, optimizer, criterion, writer, update_function, epochs):\n",
    "        self.model = model\n",
    "        self.device = device\n",
    "        self.dataloader_train = dataloader_train\n",
    "        self.dataloader_valid = dataloader_valid\n",
    "        self.writer = writer\n",
    "        self.epochs = epochs\n",
    "        self.optimizer = optimizer\n",
    "        self.criterion = criterion\n",
    "        self.update_function = update_function\n",
    "\n",
    "    def train_epoch(self):\n",
    "        train_losses = []\n",
    "        self.model.train()\n",
    "\n",
    "        for input_zeta, targets_zeta, input_vel, targets_vel in self.dataloader_train:\n",
    "            self.optimizer.zero_grad()\n",
    "            input_zeta, input_vel = input_zeta.to(self.device), input_vel.to(self.device)\n",
    "            targets_zeta, targets_vel = targets_zeta.to(self.device), targets_vel.to(self.device)\n",
    "            output_zeta, output_vel = self.update_function(model, input_zeta, input_vel)\n",
    "            loss_zeta = self.criterion(output_zeta, targets_zeta)\n",
    "            loss_vel = self.criterion(output_vel, targets_vel)\n",
    "            total_loss = (loss_zeta + loss_vel) / 2.0\n",
    "            total_loss.backward()\n",
    "            self.optimizer.step()\n",
    "            train_losses.append(total_loss.item())\n",
    "\n",
    "        return np.mean(train_losses)\n",
    "\n",
    "    def validate_epoch(self):\n",
    "        valid_losses = []\n",
    "        self.model.eval()\n",
    "        with torch.no_grad():\n",
    "            for input_zeta, targets_zeta, input_vel, targets_vel in self.dataloader_valid:\n",
    "                input_zeta, input_vel = input_zeta.to(self.device), input_vel.to(self.device)\n",
    "                targets_zeta, targets_vel = targets_zeta.to(self.device), targets_vel.to(self.device)\n",
    "                output_zeta, output_vel = self.update_function(model, input_zeta, input_vel)\n",
    "                loss_zeta = self.criterion(output_zeta, targets_zeta)\n",
    "                loss_vel = self.criterion(output_vel, targets_vel)\n",
    "                combined_loss = (loss_zeta + loss_vel) / 2.0\n",
    "                valid_losses.append(combined_loss.item())\n",
    "\n",
    "        return np.mean(valid_losses)\n",
    "\n",
    "    def train(self):\n",
    "        for epoch in range(self.epochs):\n",
    "            train_loss = self.train_epoch()\n",
    "            self.writer.add_scalar(\"Loss/train\", train_loss, epoch)\n",
    "\n",
    "            valid_loss = self.validate_epoch()\n",
    "            self.writer.add_scalar(\"Loss/valid\", valid_loss, epoch)\n",
    "\n",
    "            print(f\"Epoch {epoch+1}/{self.epochs} Train Loss: {train_loss:.8f} Valid Loss: {valid_loss:.8f}\")"
   ]
  },
  {
   "cell_type": "code",
   "execution_count": null,
   "metadata": {},
   "outputs": [
    {
     "ename": "KeyboardInterrupt",
     "evalue": "",
     "output_type": "error",
     "traceback": [
      "\u001b[0;31m---------------------------------------------------------------------------\u001b[0m",
      "\u001b[0;31mKeyboardInterrupt\u001b[0m                         Traceback (most recent call last)",
      "Input \u001b[0;32mIn [21]\u001b[0m, in \u001b[0;36m<cell line: 2>\u001b[0;34m()\u001b[0m\n\u001b[1;32m      1\u001b[0m trainer \u001b[38;5;241m=\u001b[39m UNetTrainer(model, device, dataloader_train, dataloader_valid, optimizer, criterion, writer, update_function, epochs\u001b[38;5;241m=\u001b[39mEPOCHS)\n\u001b[0;32m----> 2\u001b[0m \u001b[43mtrainer\u001b[49m\u001b[38;5;241;43m.\u001b[39;49m\u001b[43mtrain\u001b[49m\u001b[43m(\u001b[49m\u001b[43m)\u001b[49m\n",
      "Input \u001b[0;32mIn [20]\u001b[0m, in \u001b[0;36mUNetTrainer.train\u001b[0;34m(self)\u001b[0m\n\u001b[1;32m     46\u001b[0m \u001b[38;5;28;01mdef\u001b[39;00m \u001b[38;5;21mtrain\u001b[39m(\u001b[38;5;28mself\u001b[39m):\n\u001b[1;32m     47\u001b[0m     \u001b[38;5;28;01mfor\u001b[39;00m epoch \u001b[38;5;129;01min\u001b[39;00m \u001b[38;5;28mrange\u001b[39m(\u001b[38;5;28mself\u001b[39m\u001b[38;5;241m.\u001b[39mepochs):\n\u001b[0;32m---> 48\u001b[0m         train_loss \u001b[38;5;241m=\u001b[39m \u001b[38;5;28;43mself\u001b[39;49m\u001b[38;5;241;43m.\u001b[39;49m\u001b[43mtrain_epoch\u001b[49m\u001b[43m(\u001b[49m\u001b[43m)\u001b[49m\n\u001b[1;32m     49\u001b[0m         \u001b[38;5;28mself\u001b[39m\u001b[38;5;241m.\u001b[39mwriter\u001b[38;5;241m.\u001b[39madd_scalar(\u001b[38;5;124m\"\u001b[39m\u001b[38;5;124mLoss/train\u001b[39m\u001b[38;5;124m\"\u001b[39m, train_loss, epoch)\n\u001b[1;32m     51\u001b[0m         valid_loss \u001b[38;5;241m=\u001b[39m \u001b[38;5;28mself\u001b[39m\u001b[38;5;241m.\u001b[39mvalidate_epoch()\n",
      "Input \u001b[0;32mIn [20]\u001b[0m, in \u001b[0;36mUNetTrainer.train_epoch\u001b[0;34m(self)\u001b[0m\n\u001b[1;32m     23\u001b[0m loss_vel \u001b[38;5;241m=\u001b[39m \u001b[38;5;28mself\u001b[39m\u001b[38;5;241m.\u001b[39mcriterion(output_vel, targets_vel)\n\u001b[1;32m     24\u001b[0m total_loss \u001b[38;5;241m=\u001b[39m (loss_zeta \u001b[38;5;241m+\u001b[39m loss_vel) \u001b[38;5;241m/\u001b[39m \u001b[38;5;241m2.0\u001b[39m\n\u001b[0;32m---> 25\u001b[0m \u001b[43mtotal_loss\u001b[49m\u001b[38;5;241;43m.\u001b[39;49m\u001b[43mbackward\u001b[49m\u001b[43m(\u001b[49m\u001b[43m)\u001b[49m\n\u001b[1;32m     26\u001b[0m \u001b[38;5;28mself\u001b[39m\u001b[38;5;241m.\u001b[39moptimizer\u001b[38;5;241m.\u001b[39mstep()\n\u001b[1;32m     27\u001b[0m train_losses\u001b[38;5;241m.\u001b[39mappend(total_loss\u001b[38;5;241m.\u001b[39mitem())\n",
      "File \u001b[0;32m~/miniconda3/lib/python3.9/site-packages/torch/_tensor.py:307\u001b[0m, in \u001b[0;36mTensor.backward\u001b[0;34m(self, gradient, retain_graph, create_graph, inputs)\u001b[0m\n\u001b[1;32m    298\u001b[0m \u001b[38;5;28;01mif\u001b[39;00m has_torch_function_unary(\u001b[38;5;28mself\u001b[39m):\n\u001b[1;32m    299\u001b[0m     \u001b[38;5;28;01mreturn\u001b[39;00m handle_torch_function(\n\u001b[1;32m    300\u001b[0m         Tensor\u001b[38;5;241m.\u001b[39mbackward,\n\u001b[1;32m    301\u001b[0m         (\u001b[38;5;28mself\u001b[39m,),\n\u001b[0;32m   (...)\u001b[0m\n\u001b[1;32m    305\u001b[0m         create_graph\u001b[38;5;241m=\u001b[39mcreate_graph,\n\u001b[1;32m    306\u001b[0m         inputs\u001b[38;5;241m=\u001b[39minputs)\n\u001b[0;32m--> 307\u001b[0m \u001b[43mtorch\u001b[49m\u001b[38;5;241;43m.\u001b[39;49m\u001b[43mautograd\u001b[49m\u001b[38;5;241;43m.\u001b[39;49m\u001b[43mbackward\u001b[49m\u001b[43m(\u001b[49m\u001b[38;5;28;43mself\u001b[39;49m\u001b[43m,\u001b[49m\u001b[43m \u001b[49m\u001b[43mgradient\u001b[49m\u001b[43m,\u001b[49m\u001b[43m \u001b[49m\u001b[43mretain_graph\u001b[49m\u001b[43m,\u001b[49m\u001b[43m \u001b[49m\u001b[43mcreate_graph\u001b[49m\u001b[43m,\u001b[49m\u001b[43m \u001b[49m\u001b[43minputs\u001b[49m\u001b[38;5;241;43m=\u001b[39;49m\u001b[43minputs\u001b[49m\u001b[43m)\u001b[49m\n",
      "File \u001b[0;32m~/miniconda3/lib/python3.9/site-packages/torch/autograd/__init__.py:154\u001b[0m, in \u001b[0;36mbackward\u001b[0;34m(tensors, grad_tensors, retain_graph, create_graph, grad_variables, inputs)\u001b[0m\n\u001b[1;32m    151\u001b[0m \u001b[38;5;28;01mif\u001b[39;00m retain_graph \u001b[38;5;129;01mis\u001b[39;00m \u001b[38;5;28;01mNone\u001b[39;00m:\n\u001b[1;32m    152\u001b[0m     retain_graph \u001b[38;5;241m=\u001b[39m create_graph\n\u001b[0;32m--> 154\u001b[0m \u001b[43mVariable\u001b[49m\u001b[38;5;241;43m.\u001b[39;49m\u001b[43m_execution_engine\u001b[49m\u001b[38;5;241;43m.\u001b[39;49m\u001b[43mrun_backward\u001b[49m\u001b[43m(\u001b[49m\n\u001b[1;32m    155\u001b[0m \u001b[43m    \u001b[49m\u001b[43mtensors\u001b[49m\u001b[43m,\u001b[49m\u001b[43m \u001b[49m\u001b[43mgrad_tensors_\u001b[49m\u001b[43m,\u001b[49m\u001b[43m \u001b[49m\u001b[43mretain_graph\u001b[49m\u001b[43m,\u001b[49m\u001b[43m \u001b[49m\u001b[43mcreate_graph\u001b[49m\u001b[43m,\u001b[49m\u001b[43m \u001b[49m\u001b[43minputs\u001b[49m\u001b[43m,\u001b[49m\n\u001b[1;32m    156\u001b[0m \u001b[43m    \u001b[49m\u001b[43mallow_unreachable\u001b[49m\u001b[38;5;241;43m=\u001b[39;49m\u001b[38;5;28;43;01mTrue\u001b[39;49;00m\u001b[43m,\u001b[49m\u001b[43m \u001b[49m\u001b[43maccumulate_grad\u001b[49m\u001b[38;5;241;43m=\u001b[39;49m\u001b[38;5;28;43;01mTrue\u001b[39;49;00m\u001b[43m)\u001b[49m\n",
      "\u001b[0;31mKeyboardInterrupt\u001b[0m: "
     ]
    }
   ],
   "source": [
    "trainer = UNetTrainer(model, device, dataloader_train, dataloader_valid, optimizer, criterion, writer, update_function, epochs=EPOCHS)\n",
    "trainer.train()"
   ]
  },
  {
   "cell_type": "markdown",
   "metadata": {},
   "source": [
    "### Step E: Use logging & visualization tools\n",
    "\n",
    "We've already added logging functionality in the training loop using TensorBoard's `SummaryWriter`. This will help visualize training and validation loss curves, among other metrics you might want to track.\n"
   ]
  },
  {
   "cell_type": "code",
   "execution_count": null,
   "metadata": {},
   "outputs": [],
   "source": [
    "%tensorboard --logdir $log_dir"
   ]
  },
  {
   "cell_type": "markdown",
   "metadata": {},
   "source": [
    "For the following tasks, you won't be specifically asked to use tensorboard, but it may help you diagnose problems and compare convergence rates and final validation losses of the various models you'll be training."
   ]
  },
  {
   "cell_type": "markdown",
   "metadata": {},
   "source": [
    "### Step F: save the model\n",
    "Save the model's state dict, which contains the model's learned parameters. Later, you can load this state dict to make predictions with the trained model.\n"
   ]
  },
  {
   "cell_type": "code",
   "execution_count": null,
   "metadata": {},
   "outputs": [],
   "source": [
    "torch.save(model.state_dict(), EXP_NAME + '.pth')"
   ]
  },
  {
   "cell_type": "markdown",
   "metadata": {},
   "source": [
    "### Step G: visualize results\n",
    "Now, based on the visualization code above, compare our trained PDE time stepper's predictions for each time step to the reference numerical solution. For now, use the numerical solution at the previous time step as input, for one complete simulation in the test set."
   ]
  },
  {
   "cell_type": "code",
   "execution_count": null,
   "metadata": {},
   "outputs": [],
   "source": [
    "model.eval()  # use frozen batch norm"
   ]
  },
  {
   "cell_type": "code",
   "execution_count": null,
   "metadata": {},
   "outputs": [],
   "source": [
    "# run the network on all data to predict the next time step\n",
    "zeta_est, v_est = update_function(model, zeta_in.unsqueeze(1), v_in.unsqueeze(1))"
   ]
  },
  {
   "cell_type": "code",
   "execution_count": null,
   "metadata": {},
   "outputs": [],
   "source": [
    "# detach from the computation graph and remove unused (channel) dimension\n",
    "# so we can call plotting functions\n",
    "zeta_est, v_est = zeta_est.detach().squeeze(1), v_est.detach().squeeze(1)"
   ]
  },
  {
   "cell_type": "code",
   "execution_count": null,
   "metadata": {},
   "outputs": [],
   "source": [
    "plt.figure(figsize=(10,5))\n",
    "plt.subplot(3,2,1)\n",
    "img_plot(zeta_ref, title='$\\zeta$ (ref)', showxax=False)\n",
    "plt.subplot(3,2,2)\n",
    "img_plot(v_ref, title='$v$ (ref)', showxax=False, showyax=False)\n",
    "\n",
    "plt.subplot(3,2,3)\n",
    "img_plot(zeta_est, title='$\\zeta$ (net)', showxax=False)\n",
    "plt.subplot(3,2,4)\n",
    "img_plot(v_est, title='$v$ (net)', showxax=False, showyax=False)\n",
    "\n",
    "plt.subplot(3,2,5)\n",
    "img_plot(zeta_est - zeta_ref, title='$\\zeta$ error (net - ref)', cmap='BrBG')\n",
    "plt.subplot(3,2,6)\n",
    "img_plot(v_est - v_ref, title='$v$ error (net - ref)', cmap='BrBG')"
   ]
  },
  {
   "cell_type": "markdown",
   "metadata": {},
   "source": [
    "### Step H: test autoregressive prediction\n",
    "Now try providing only an initial condition from a reference simulation, and then feed the trained time stepper's outputs back as inputs repeatedly. Compare the results of this \"autoregressive mode\" to the full numerical simulation, using the same type of graphs as before."
   ]
  },
  {
   "cell_type": "code",
   "execution_count": null,
   "metadata": {},
   "outputs": [],
   "source": [
    "def arsolve(zeta_in, vel_in, model):\n",
    "    zeta, v = zeta_in.unsqueeze(1)[0:1], vel_in.unsqueeze(1)[0:1]\n",
    "    zeta_ar, v_ar = [], []\n",
    "    for i in range(zeta_est.shape[0]):\n",
    "        zeta, v = update_function(model, zeta, v)\n",
    "        zeta, v = zeta.detach(), v.detach()\n",
    "        zeta_ar.append(zeta)\n",
    "        v_ar.append(v)\n",
    "       \n",
    "    zeta_ar = torch.cat(zeta_ar, axis=0).squeeze(1)\n",
    "    v_ar = torch.cat(v_ar, axis=0).squeeze(1)\n",
    "    return zeta_ar, v_ar"
   ]
  },
  {
   "cell_type": "code",
   "execution_count": null,
   "metadata": {},
   "outputs": [],
   "source": [
    "# initialize from IC of reference simulation\n",
    "zeta_ar, v_ar = arsolve(zeta_in[0:1, ...], v_in[0:1, ...], model)"
   ]
  },
  {
   "cell_type": "code",
   "execution_count": null,
   "metadata": {},
   "outputs": [],
   "source": [
    "tsteps = [0, 10, 120]\n",
    "plt.figure(figsize=(10, 5))\n",
    "for i, t in enumerate(tsteps):\n",
    "    plt.subplot(len(tsteps), 2, 2 * i + 1)\n",
    "    plt.plot(zeta_ref[t],label='ref')\n",
    "    plt.plot(zeta_est[t],label='net: 1-step ahead')\n",
    "    plt.plot(zeta_ar[t],label='net: AR from IC')\n",
    "    \n",
    "    plt.ylabel(f't={t}', rotation=0, horizontalalignment='right')\n",
    "    if i == 0:\n",
    "        plt.title('$\\zeta$')\n",
    "        plt.legend(loc='best')\n",
    "    if i == len(tsteps) - 1:\n",
    "        plt.xlabel('time step')\n",
    "    plt.subplot(len(tsteps), 2, 2 * i + 2)\n",
    "    plt.plot(v_ref[t], label='ref')\n",
    "    plt.plot(v_est[t],label='net: 1-step ahead')\n",
    "    plt.plot(v_ar[t],label='net: AR from IC')\n",
    "    if i == 0:\n",
    "        plt.title('$v$')\n",
    "    if i == len(tsteps) - 1:\n",
    "        plt.xlabel('time step')"
   ]
  },
  {
   "cell_type": "code",
   "execution_count": null,
   "metadata": {},
   "outputs": [],
   "source": [
    "plt.figure(figsize=(10,5))\n",
    "\n",
    "plt.subplot(3,2,1)\n",
    "img_plot(zeta_ref, title='$\\zeta$ (ref)', showxax=False)\n",
    "plt.subplot(3,2,2)\n",
    "img_plot(v_ref, title='$v$ (ref)', showxax=False, showyax=False)\n",
    "\n",
    "plt.subplot(3,2,3)\n",
    "img_plot(zeta_ar, title='$\\zeta$ (net, autoregressive)', showxax=False)\n",
    "plt.subplot(3,2,4)\n",
    "img_plot(v_ar, title='$v$ (net, autoregressive)', showxax=False, showyax=False)\n",
    "\n",
    "plt.subplot(3,2,5)\n",
    "img_plot(zeta_ar - zeta_ref, title='$\\zeta$ error (net - ref)', cmap='BrBG')\n",
    "plt.subplot(3,2,6)\n",
    "img_plot(v_ar - v_ref, title='$v$ error (net - ref)', cmap='BrBG')"
   ]
  },
  {
   "cell_type": "markdown",
   "metadata": {},
   "source": [
    "## Task 3: enforcing boundary constraints\n",
    "Now we'll enforce the first physics-derived constraint on our network: we impose hard boundary conditions.\n",
    "\n",
    "Below we define a wrapper class that calls the Unet, then simply overwrites the velocities on the boundary with the correct (zero) value. While almost trivial, this is our first step in imposing physical principles on our neural networks."
   ]
  },
  {
   "cell_type": "code",
   "execution_count": null,
   "metadata": {},
   "outputs": [],
   "source": [
    "class HardBCModel(nn.Module):\n",
    "    def __init__(self, model):\n",
    "        super(HardBCModel, self).__init__()\n",
    "        self.model = model        \n",
    "\n",
    "    def forward(self, zeta, v):\n",
    "        zeta, v = self.model(zeta, v)  # advance one time step\n",
    "        v[..., 0] = 0.0\n",
    "        v[..., -1] = 0.0\n",
    "        \n",
    "        return zeta, v"
   ]
  },
  {
   "cell_type": "markdown",
   "metadata": {},
   "source": [
    "Now do the folllowing:\n",
    "* reseed the RNG\n",
    "* initialize a new Unet\n",
    "* Use the Unet to make a HardBCModel\n",
    "* initialize a new UnetTrainer and optimizer\n",
    "* Train the Network\n",
    "* Compare results to the reference solution, and the previous approach"
   ]
  },
  {
   "cell_type": "code",
   "execution_count": null,
   "metadata": {},
   "outputs": [],
   "source": [
    "set_seeds(seed=42)\n",
    "net = UNet().to(device)  # instantiate the Unet we defined with random initial parameters\n",
    "model = HardBCModel(net)\n",
    "optimizer = optim.Adam(model.parameters(), lr=LR)  # this is basically a fancy version of gradient descent"
   ]
  },
  {
   "cell_type": "code",
   "execution_count": null,
   "metadata": {},
   "outputs": [],
   "source": [
    "trainer = UNetTrainer(model, device, dataloader_train, dataloader_valid, optimizer, criterion, writer, update_function, epochs=EPOCHS)\n",
    "trainer.train()\n",
    "torch.save(model.state_dict(), EXP_NAME + '_hardbcs.pth')"
   ]
  },
  {
   "cell_type": "code",
   "execution_count": null,
   "metadata": {},
   "outputs": [],
   "source": [
    "model.eval()  # use frozen batch norm\n",
    "\n",
    "data = SWDataset(file_path=\"simulation_data.h5\", normalize=True)\n",
    "\n",
    "# retrieve inputs\n",
    "zeta_in = torch.cat([data[i][0][0] for i in range(len(data))], axis=0)\n",
    "v_in = torch.cat([data[i][0][1] for i in range(len(data))], axis=0)\n",
    "\n",
    "# retrieve correct outputs\n",
    "zeta_ref = torch.cat([data[i][1][0] for i in range(len(data))], axis=0)\n",
    "v_ref = torch.cat([data[i][1][1] for i in range(len(data))], axis=0)"
   ]
  },
  {
   "cell_type": "code",
   "execution_count": null,
   "metadata": {},
   "outputs": [],
   "source": [
    "# run the network on all data to predict the next time step\n",
    "zeta_est_bc, v_est_bc = update_function(model, zeta_in.unsqueeze(1), v_in.unsqueeze(1))"
   ]
  },
  {
   "cell_type": "code",
   "execution_count": null,
   "metadata": {},
   "outputs": [],
   "source": [
    "# detach from the computation graph and remove unused (channel) dimension\n",
    "# so we can call plotting functions\n",
    "zeta_est_bc, v_est_bc = zeta_est_bc.detach().squeeze(1), v_est_bc.detach().squeeze(1)"
   ]
  },
  {
   "cell_type": "code",
   "execution_count": null,
   "metadata": {},
   "outputs": [],
   "source": [
    "plt.figure(figsize=(15,5))\n",
    "plt.subplot(4,2,1)\n",
    "img_plot(zeta_ref, title='$\\zeta$ (ref)', showxax=False)\n",
    "plt.subplot(4,2,2)\n",
    "img_plot(v_ref, title='$v$ (ref)', showxax=False, showyax=False)\n",
    "\n",
    "plt.subplot(4,2,3)\n",
    "img_plot(zeta_est_bc, title='$\\zeta$ (BCnet)', showxax=False)\n",
    "plt.subplot(4,2,4)\n",
    "img_plot(v_est_bc, title='$v$ (BCnet)', showxax=False, showyax=False)\n",
    "\n",
    "plt.subplot(4,2,5)\n",
    "img_plot(zeta_est_bc - zeta_ref, title='$\\zeta$ error (BCnet - ref)', cmap='BrBG',showxax=False)\n",
    "plt.subplot(4,2,6)\n",
    "img_plot(v_est_bc - v_ref, title='$v$ error (BCnet - ref)', cmap='BrBG',showxax=False)\n",
    "\n",
    "plt.subplot(4,2,7)\n",
    "img_plot(zeta_est - zeta_ref, title='$\\zeta$ error (Unet - ref)', cmap='BrBG')\n",
    "plt.subplot(4,2,8)\n",
    "img_plot(v_est - v_ref, title='$v$ error (Unet - ref)', cmap='BrBG')"
   ]
  },
  {
   "cell_type": "code",
   "execution_count": null,
   "metadata": {},
   "outputs": [],
   "source": [
    "# autoregressive\n",
    "# initialize from IC of reference simulation\n",
    "zeta_ar_bc, v_ar_bc = arsolve(zeta_in[0:1, ...], v_in[0:1, ...], model)"
   ]
  },
  {
   "cell_type": "code",
   "execution_count": null,
   "metadata": {},
   "outputs": [],
   "source": [
    "plt.figure(figsize=(15,5))\n",
    "plt.subplot(4,2,1)\n",
    "img_plot(zeta_ref, title='$\\zeta$ (ref)', showxax=False)\n",
    "plt.subplot(4,2,2)\n",
    "img_plot(v_ref, title='$v$ (ref)', showxax=False, showyax=False)\n",
    "\n",
    "plt.subplot(4,2,3)\n",
    "img_plot(zeta_ar_bc, title='$\\zeta$ (BCnet, AR)', showxax=False)\n",
    "plt.subplot(4,2,4)\n",
    "img_plot(v_ar_bc, title='$v$ (BCnet, AR)', showxax=False, showyax=False)\n",
    "\n",
    "plt.subplot(4,2,5)\n",
    "img_plot(zeta_ar_bc - zeta_ref, title='$\\zeta$ error (BCnet - ref, AR)', cmap='BrBG',showxax=False)\n",
    "plt.subplot(4,2,6)\n",
    "img_plot(v_ar_bc - v_ref, title='$v$ error (BCnet - ref, AR)', cmap='BrBG',showxax=False)\n",
    "\n",
    "plt.subplot(4,2,7)\n",
    "img_plot(zeta_ar - zeta_ref, title='$\\zeta$ error (Unet - ref, AR)', cmap='BrBG')\n",
    "plt.subplot(4,2,8)\n",
    "img_plot(v_ar - v_ref, title='$v$ error (Unet - ref, AR)', cmap='BrBG')"
   ]
  },
  {
   "cell_type": "code",
   "execution_count": null,
   "metadata": {},
   "outputs": [],
   "source": [
    "tsteps = [0, 10, 120]\n",
    "plt.figure(figsize=(10, 5))\n",
    "for i, t in enumerate(tsteps):\n",
    "    plt.subplot(len(tsteps), 2, 2 * i + 1)\n",
    "    plt.plot(zeta_ref[t],label='ref')\n",
    "    plt.plot(zeta_est[t],label='Unet: 1-step ahead')\n",
    "    plt.plot(zeta_ar[t],label='Unet: AR from IC')\n",
    "    plt.plot(zeta_est_bc[t],'--',label='BCnet: 1-step ahead')\n",
    "    plt.plot(zeta_ar_bc[t],'--',label='BCnet: AR from IC')\n",
    "    \n",
    "    plt.ylabel(f't={t}', rotation=0, horizontalalignment='right')\n",
    "    if i == 0:\n",
    "        plt.title('$\\zeta$')\n",
    "        plt.legend(loc='best')\n",
    "    if i == len(tsteps) - 1:\n",
    "        plt.xlabel('time step')\n",
    "    plt.subplot(len(tsteps), 2, 2 * i + 2)\n",
    "    plt.plot(v_ref[t], label='ref')\n",
    "    plt.plot(v_est[t],label='Unet: 1-step ahead')\n",
    "    plt.plot(v_ar[t],label='Unet: AR from IC')\n",
    "    plt.plot(v_est_bc[t],'--',label='BCnet: 1-step ahead')\n",
    "    plt.plot(v_ar_bc[t],'--',label='BCnet: AR from IC')\n",
    "    if i == 0:\n",
    "        plt.title('$v$')\n",
    "    if i == len(tsteps) - 1:\n",
    "        plt.xlabel('time step')"
   ]
  },
  {
   "cell_type": "markdown",
   "metadata": {},
   "source": [
    "## Task 4: Learn fluxes instead of tendencies\n",
    "Hyperbolic conservation laws can be written in the form:\n",
    "\n",
    "$\\dfrac{\\partial \\mathbf{U}}{\\partial t} + \\dfrac{\\partial \\mathbf{F}(\\mathbf{U})}{\\partial \\mathbf{x}}=\\mathbf{0}$\n",
    "\n",
    "Instead of outputting the tendencies $\\mathbf{U}_t$ for elevation $\\zeta$ and velocity $u$, we can also output the fluxes $\\mathbf{F}$ calculated on discretized domain corresponding to these variables.\n",
    "This will guarantee that our neural network will satisfy the conservation laws precisely. In our equation, we know that the $\\zeta$ values are conserved but our momentum equation has a source term for bottom drag. Therefore, we can modify our network to output fluxes for $\\zeta$ values at velocity locations and tendencies for velocity values."
   ]
  },
  {
   "cell_type": "code",
   "execution_count": null,
   "metadata": {},
   "outputs": [],
   "source": [
    "class UNetFlux(UNet):\n",
    "    def __init__(self):\n",
    "        super(UNetFlux, self).__init__()\n",
    "        self.output_dec_zeta = nn.Conv1d(16, 1, kernel_size=2, padding=1) # reduce kernel size to get one more output location\n",
    "\n",
    "    def forward(self, x_zeta, x_vel):\n",
    "        F_zeta, delta_vel = super(UNetFlux, self).forward(x_zeta, x_vel)\n",
    "        \n",
    "        # set flux across boundaries to zero\n",
    "        F_zeta[..., 0] = 0.0\n",
    "        F_zeta[..., -1] = 0.0\n",
    "        \n",
    "        delta_zeta = torch.diff(F_zeta, dim=-1)\n",
    "        return delta_zeta, delta_vel"
   ]
  },
  {
   "cell_type": "markdown",
   "metadata": {},
   "source": [
    "Use this class to run test flux-based learning against the reference solution and previous solvers. Continue to enforce hard BCs as previously using the `HardBCModel` class."
   ]
  },
  {
   "cell_type": "code",
   "execution_count": null,
   "metadata": {},
   "outputs": [],
   "source": [
    "EXP_NAME = 'flux_time_integrator'\n",
    "log_dir = f'runs/exp_{EXP_NAME}'\n",
    "writer = SummaryWriter(log_dir=log_dir)\n",
    "net = UNetFlux().to(device)  # instantiate the Unet we defined with random initial parameters\n",
    "model = HardBCModel(net)\n",
    "\n",
    "optimizer = optim.Adam(model.parameters(), lr=LR)\n",
    "trainer = trainer = UNetTrainer(model, device, dataloader_train, dataloader_valid, optimizer, criterion, writer, update_function, epochs=EPOCHS)"
   ]
  },
  {
   "cell_type": "code",
   "execution_count": null,
   "metadata": {},
   "outputs": [],
   "source": [
    "trainer.train()\n",
    "torch.save(model.state_dict(), EXP_NAME + '_fluxes.pth')"
   ]
  },
  {
   "cell_type": "code",
   "execution_count": null,
   "metadata": {},
   "outputs": [],
   "source": [
    "model.eval()  # use frozen batch norm\n",
    "\n",
    "data = SWDataset(file_path=\"simulation_data.h5\", normalize=True)\n",
    "\n",
    "# retrieve inputs\n",
    "zeta_in = torch.cat([data[i][0][0] for i in range(len(data))], axis=0)\n",
    "v_in = torch.cat([data[i][0][1] for i in range(len(data))], axis=0)\n",
    "\n",
    "# retrieve correct outputs\n",
    "zeta_ref = torch.cat([data[i][1][0] for i in range(len(data))], axis=0)\n",
    "v_ref = torch.cat([data[i][1][1] for i in range(len(data))], axis=0)"
   ]
  },
  {
   "cell_type": "code",
   "execution_count": null,
   "metadata": {},
   "outputs": [],
   "source": [
    "# run the network on all data to predict the next time step\n",
    "zeta_est_f, v_est_f = update_function(model, zeta_in.unsqueeze(1), v_in.unsqueeze(1))"
   ]
  },
  {
   "cell_type": "code",
   "execution_count": null,
   "metadata": {},
   "outputs": [],
   "source": [
    "# detach from the computation graph and remove unused (channel) dimension\n",
    "# so we can call plotting functions\n",
    "zeta_est_f, v_est_f = zeta_est_f.detach().squeeze(1), v_est_f.detach().squeeze(1)"
   ]
  },
  {
   "cell_type": "code",
   "execution_count": null,
   "metadata": {},
   "outputs": [],
   "source": [
    "plt.figure(figsize=(15,5))\n",
    "plt.subplot(4,2,1)\n",
    "img_plot(zeta_ref, title='$\\zeta$ (ref)', showxax=False)\n",
    "plt.subplot(4,2,2)\n",
    "img_plot(v_ref, title='$v$ (ref)', showxax=False, showyax=False)\n",
    "\n",
    "plt.subplot(4,2,3)\n",
    "img_plot(zeta_est_f, title='$\\zeta$ (Fluxnet)', showxax=False)\n",
    "plt.subplot(4,2,4)\n",
    "img_plot(v_est_f, title='$v$ (Fluxnet)', showxax=False, showyax=False)\n",
    "\n",
    "plt.subplot(4,2,5)\n",
    "img_plot(zeta_est_f - zeta_ref, title='$\\zeta$ error (Fluxnet - ref)', cmap='BrBG',showxax=False)\n",
    "plt.subplot(4,2,6)\n",
    "img_plot(v_est_f - v_ref, title='$v$ error (Fluxnet - ref)', cmap='BrBG',showxax=False)\n",
    "\n",
    "plt.subplot(4,2,7)\n",
    "img_plot(zeta_est_bc - zeta_ref, title='$\\zeta$ error (BCnet - ref)', cmap='BrBG')\n",
    "plt.subplot(4,2,8)\n",
    "img_plot(v_est_bc - v_ref, title='$v$ error (BCnet - ref)', cmap='BrBG')"
   ]
  },
  {
   "cell_type": "code",
   "execution_count": null,
   "metadata": {},
   "outputs": [],
   "source": [
    "# autoregressive\n",
    "# initialize from IC of reference simulation\n",
    "zeta_ar_f, v_ar_f = arsolve(zeta_in[0:1, ...], v_in[0:1, ...], model)"
   ]
  },
  {
   "cell_type": "code",
   "execution_count": null,
   "metadata": {},
   "outputs": [],
   "source": [
    "plt.figure(figsize=(15,5))\n",
    "plt.subplot(4,2,1)\n",
    "img_plot(zeta_ref, title='$\\zeta$ (ref)', showxax=False)\n",
    "plt.subplot(4,2,2)\n",
    "img_plot(v_ref, title='$v$ (ref)', showxax=False, showyax=False)\n",
    "\n",
    "plt.subplot(4,2,3)\n",
    "img_plot(zeta_ar_f, title='$\\zeta$ (Fluxnet, AR)', showxax=False)\n",
    "plt.subplot(4,2,4)\n",
    "img_plot(v_ar_f, title='$v$ (Fluxnet, AR)', showxax=False, showyax=False)\n",
    "\n",
    "plt.subplot(4,2,5)\n",
    "img_plot(zeta_ar_f - zeta_ref, title='$\\zeta$ error (Fluxnet - ref, AR)', cmap='BrBG',showxax=False)\n",
    "plt.subplot(4,2,6)\n",
    "img_plot(v_ar_f - v_ref, title='$v$ error (Fluxnet - ref, AR)', cmap='BrBG',showxax=False)\n",
    "\n",
    "plt.subplot(4,2,7)\n",
    "img_plot(zeta_ar_bc - zeta_ref, title='$\\zeta$ error (BCnet - ref, AR)', cmap='BrBG')\n",
    "plt.subplot(4,2,8)\n",
    "img_plot(v_ar_bc - v_ref, title='$v$ error (BCnet - ref, AR)', cmap='BrBG')"
   ]
  },
  {
   "cell_type": "markdown",
   "metadata": {},
   "source": [
    "An advantage of flux-base solvers is they obey conservation laws, in this case of mass. Plot the total mass over (that is, the sum of $\\zeta$ over space) for each time point of the autoregressive solution of each solver we've tried so far (a log scale on the y-axis may be more informative). Only extend this plot forward in time until the autoregressive solutions start to diverge to infinity, at which point numerical accuracy is compromised."
   ]
  },
  {
   "cell_type": "code",
   "execution_count": null,
   "metadata": {},
   "outputs": [],
   "source": [
    "M = zeta_ref.sum(axis=-1).mean()\n",
    "YL = [0.1 * M, 10 * M]\n",
    "plt.semilogy(zeta_ref.sum(axis=-1),'k',label='ref')\n",
    "plt.semilogy(zeta_ar.sum(axis=-1),':',label='Unet',linewidth=3)\n",
    "plt.semilogy(zeta_ar_bc.sum(axis=-1),':',label='BCnet',linewidth=3)\n",
    "plt.semilogy(zeta_ar_f.sum(axis=-1),':',label='Fluxnet',linewidth=3)\n",
    "plt.ylim(YL)\n",
    "plt.xlim([0, 30])\n",
    "plt.legend()\n",
    "plt.ylabel('Total mass')\n",
    "plt.xlabel('Time step (autoregressive solution from IC)')"
   ]
  },
  {
   "cell_type": "markdown",
   "metadata": {},
   "source": [
    "## Task 5: implement a hybrid scheme\n",
    "We next implement a hybrid approach combining numerical integration and deep learing. Specifically, we will have the network output only $\\zeta$, and compute $v$ from $\\zeta$ using closed-form equations.\n",
    "\n",
    "To explain this, we first have to discuss the semiimplicit scheme that has generated our training data so far.\n",
    "\n",
    "### Semiimplicit time stepping\n",
    "The update equations for the discretized variables are:\n",
    "$$v^{n+1} = v^n - \\Delta t C_D\\frac{1}{h^n}v^n|v^n|- \\Delta t g (1-w_{\\textbf{imp}}) \\frac{\\partial \\zeta^{n}}{\\partial x}-\\Delta t g w_{\\textbf{imp}} \\frac{\\partial \\zeta^{n+1}}{\\partial x}\n",
    "\\\\\n",
    "\\zeta^{n+1} = \\zeta^n - \\Delta t (1-w_{\\textbf{imp}}) \\frac{\\partial h^n v^n}{\\partial x}-\\Delta t w_{\\textbf{imp}} \\frac{\\partial h^n v^{n+1}}{\\partial x}\n",
    "$$\n",
    "Recall that $h=h_0+\\zeta$ and $h_0$ is the undisturbed water depth. $w_{\\textbf{imp}}=0.5$ is a fixed parameter controlling weighting between implicit and explicit time stepping.\n",
    "\n",
    "Inserting the momentum equation into the mass conservation equation to eliminate $v^{n+1}$, we obtain:\n",
    "\n",
    "$$\\zeta^{n+1} = \\zeta^n - \\Delta t (1-w_{\\textbf{imp}}) \\frac{\\partial h^n v^n}{\\partial x}-\\Delta t w_{\\textbf{imp}} \\frac{\\partial h^nv^*}{\\partial x} + \\Delta t^2 w_{\\textbf{imp}}^2g\\frac{\\partial^2 h^n\\zeta^{n+1}}{\\partial x^2}$$\n",
    "\n",
    "where $v^*$ is an explicit prediction for $u$:\n",
    "\n",
    "$$v^* = v^n - \\Delta t c_D\\frac{1}{h}v^n|v^n|- \\Delta t g (1 - w_{\\textbf{imp}}) \\frac{\\partial \\zeta^{n}}{\\partial x}$$\n",
    "\n",
    "The second order spatial derivatives are discretized using the second order finite central difference stencil. Solving for $\\zeta^{n+1}$ we obtain the following system of linear equations:\n",
    "\n",
    "$$\\zeta^{n+1}_i = \\frac{1}{1+c_E+c_W}\\bigg[\\zeta^n+\\text{div}+c_E\\zeta^{n+1}_{i+1}+c_W\\zeta^{n+1}_{i-1}\\bigg]$$\n",
    "\n",
    "where $\\text{div} = - \\Delta t (1-w_{\\textbf{imp}})\\frac{\\partial h^n u^n}{\\partial x} -\\Delta t w_{\\textbf{imp}}\\frac{\\partial h^nu^*}{\\partial x}$, while $c_E$ and $c_W$ are defined as\n",
    "\n",
    "$c_E=\\frac{0.5\\Delta t^2w_{\\textbf{imp}}^2g (h_i^n+h_{i+1}^n)}{\\Delta x^2}$ except at the rightmost $\\zeta$ point where $c_E$ is zero.\n",
    "\n",
    "$c_W =\\frac{0.5\\Delta t^2w_{\\textbf{imp}}^2g (h_i^n+h_{i-1}^n)}{\\Delta x^2}$ except at the leftmost $\\zeta$ point where $c_W$ is zero.\n",
    "\n",
    "The linear system can be written in matrix-vector form\n",
    "\n",
    "$$A \\zeta^{n+1} = b$$\n",
    "\n",
    "where $A$ is a $N \\times N$ tridiagonal matrix  with $A_{k,k}=1$, $A_{k, k - 1} = -\\frac{c_W}{1 + c_E + c_W}$, $A_{k, k + 1} = - \\frac{c_E}{1 + c_E + c_W}$ and all other elements are zero. $b\\in\\mathbb R^N$ with $b = \\frac{\\zeta^n +div}{1 + c_E + c_W}$. Having obtained $\\zeta^{n+1}$, the new velocity $v^{n+1}$ is calculated as\n",
    "\n",
    "$v^{n+1} =v^* - \\Delta t g w_{\\textbf{imp}} \\frac{\\partial \\zeta^{n+1}}{\\partial x}$\n",
    "Note that this formula doesn't apply on the boundaries, where $v$ is prescribed.\n",
    "\n",
    "## Hybrid time stepping\n",
    "Given $\\zeta^n, v^n$ computing $\\zeta^{n+1}$ is computationally expensive since we must solve the linear system. For the small 1-D examples we are considering here one could conceivably invert or factorize $A$, in practice for real-world problems iterative solvers must be used. This makes computation time data-dependent, which hinders parallelization. Thus, skipping this step by using a neural network to obtain $\\zeta^{n+1}$ has provide a large speed boost in several studies (though as mentioned above, we won't concern ourselves with trying to quantitatively time anything in this illustrative tutorail).\n",
    "\n",
    "On the other hand, computing $v^{n+1}$ given $\\zeta^n, v^n, \\zeta^{n+1}$ is straightforward and inexpensive. There is therefore littel reason for the neural network to learn this inexpensive computation. In our hybrid time stepping scheme, will exploit this computational asymmetry but computing $\\zeta^{n+1}$ using the network, but computing $v^{n+1}$ using the same calculations as in the numerical solver. We then proceed to train the network using the same supervised least-squares loss on both $\\zeta$ and $v$ as previously.\n",
    "\n",
    "To compute $v^{n+1}$, we'll need some physical constants and other settings from our numerical scheme:"
   ]
  },
  {
   "cell_type": "code",
   "execution_count": null,
   "metadata": {},
   "outputs": [],
   "source": [
    "# New physics informed loss function\n",
    "# Parameters for the given dataset of SWE.\n",
    "CD = 1.0e-3\n",
    "G = 9.81\n",
    "DT = 300.0\n",
    "W_IMP = 0.5\n",
    "H0 = 100.0\n",
    "DX = 10.0e3  # spactial grid size\n",
    "N = zeta_ref.shape[-1]  # number of locations in our 1-D zeta grid"
   ]
  },
  {
   "cell_type": "code",
   "execution_count": null,
   "metadata": {},
   "outputs": [],
   "source": [
    "# New Architecture\n",
    "class ZetaUNet(UNetFlux):\n",
    "    def __init__(self):\n",
    "        super(ZetaUNet, self).__init__()\n",
    "\n",
    "    def integrate_vel(self, vel_n, zeta_new, zeta_old):\n",
    "        # calculate new velocity from old velocity, old height and new height\n",
    "        h_n = H0 + zeta_old\n",
    "        h_m = (h_n[..., 1:] + h_n[..., :-1]) / 2.0\n",
    "\n",
    "        zeta_old_dx = torch.diff(zeta_old, axis=-1) / DX\n",
    "        zeta_new_dx = torch.diff(zeta_new, axis=-1) / DX\n",
    "        zeta_old_dx = torch.nn.functional.pad(zeta_old_dx, (1, 1), \"constant\", 0.0)\n",
    "        zeta_new_dx = torch.nn.functional.pad(zeta_new_dx, (1, 1), \"constant\", 0.0)\n",
    "        h_m = torch.nn.functional.pad(h_m, (1, 1), \"constant\", 1)\n",
    "\n",
    "        vel_star = (\n",
    "            vel_n\n",
    "            - DT * CD * torch.div(torch.mul(torch.abs(vel_n), vel_n), h_m)\n",
    "            - DT * G * (1.0 - W_IMP) * zeta_old_dx\n",
    "        )\n",
    "        vel_new = vel_star - DT * G * W_IMP * zeta_new_dx\n",
    "        return vel_new\n",
    "        \n",
    "    def forward(self, x_zeta, x_vel):\n",
    "        delta_zeta, _ = super(ZetaUNet, self).forward(x_zeta, x_vel)\n",
    "        zeta_new = x_zeta + delta_zeta\n",
    "        \n",
    "        v_new = self.integrate_vel(x_vel, zeta_new, x_zeta)\n",
    "        \n",
    "        #enforce boundary conditions\n",
    "        v_new[..., 0] = 0.0\n",
    "        v_new[..., -1] = 0.0\n",
    "        \n",
    "        delta_v = v_new - x_vel\n",
    "        \n",
    "        return delta_zeta, delta_v"
   ]
  },
  {
   "cell_type": "code",
   "execution_count": null,
   "metadata": {},
   "outputs": [],
   "source": [
    "model = ZetaUNet().to(device)\n",
    "optimizer = optim.Adam(model.parameters(), lr=LR)\n",
    "trainer = UNetTrainer(model, device, dataloader_train, dataloader_valid, optimizer, criterion, writer, update_function, epochs=EPOCHS)"
   ]
  },
  {
   "cell_type": "code",
   "execution_count": null,
   "metadata": {},
   "outputs": [],
   "source": [
    "trainer.train()"
   ]
  },
  {
   "cell_type": "markdown",
   "metadata": {},
   "source": [
    "Now compare performance to the reference solver and our previous networks."
   ]
  },
  {
   "cell_type": "code",
   "execution_count": null,
   "metadata": {},
   "outputs": [],
   "source": [
    "model.eval()  # use frozen batch norm\n",
    "\n",
    "data = SWDataset(file_path=\"simulation_data.h5\", normalize=True)\n",
    "\n",
    "# retrieve inputs\n",
    "zeta_in = torch.cat([data[i][0][0] for i in range(len(data))], axis=0)\n",
    "v_in = torch.cat([data[i][0][1] for i in range(len(data))], axis=0)\n",
    "\n",
    "# retrieve correct outputs\n",
    "zeta_ref = torch.cat([data[i][1][0] for i in range(len(data))], axis=0)\n",
    "v_ref = torch.cat([data[i][1][1] for i in range(len(data))], axis=0)"
   ]
  },
  {
   "cell_type": "code",
   "execution_count": null,
   "metadata": {},
   "outputs": [],
   "source": [
    "# run the network on all data to predict the next time step\n",
    "zeta_est_hyb, v_est_hyb = update_function(model, zeta_in.unsqueeze(1), v_in.unsqueeze(1))"
   ]
  },
  {
   "cell_type": "code",
   "execution_count": null,
   "metadata": {},
   "outputs": [],
   "source": [
    "# detach from the computation graph and remove unused (channel) dimension\n",
    "# so we can call plotting functions\n",
    "zeta_est_hyb, v_est_hyb = zeta_est_hyb.detach().squeeze(1), v_est_hyb.detach().squeeze(1)"
   ]
  },
  {
   "cell_type": "code",
   "execution_count": null,
   "metadata": {},
   "outputs": [],
   "source": [
    "plt.figure(figsize=(15,5))\n",
    "plt.subplot(4,2,1)\n",
    "img_plot(zeta_ref, title='$\\zeta$ (ref)', showxax=False)\n",
    "plt.subplot(4,2,2)\n",
    "img_plot(v_ref, title='$v$ (ref)', showxax=False, showyax=False)\n",
    "\n",
    "plt.subplot(4,2,3)\n",
    "img_plot(zeta_est_hyb, title='$\\zeta$ (hybrid)', showxax=False)\n",
    "plt.subplot(4,2,4)\n",
    "img_plot(v_est_hyb, title='$v$ (hybrid)', showxax=False, showyax=False)\n",
    "\n",
    "plt.subplot(4,2,5)\n",
    "img_plot(zeta_est_hyb - zeta_ref, title='$\\zeta$ error (hybrid - ref)', cmap='BrBG',showxax=False)\n",
    "plt.subplot(4,2,6)\n",
    "img_plot(v_est_hyb - v_ref, title='$v$ error (hybrid - ref)', cmap='BrBG',showxax=False)\n",
    "\n",
    "plt.subplot(4,2,7)\n",
    "img_plot(zeta_est_f - zeta_ref, title='$\\zeta$ error (Fluxnet - ref)', cmap='BrBG')\n",
    "plt.subplot(4,2,8)\n",
    "img_plot(v_est_f - v_ref, title='$v$ error (Fluxnet - ref)', cmap='BrBG')"
   ]
  },
  {
   "cell_type": "code",
   "execution_count": null,
   "metadata": {},
   "outputs": [],
   "source": [
    "# autoregressive\n",
    "# initialize from IC of reference simulation\n",
    "zeta_ar_hyb, v_ar_hyb = arsolve(zeta_in[0:1, ...], v_in[0:1, ...], model)"
   ]
  },
  {
   "cell_type": "code",
   "execution_count": null,
   "metadata": {},
   "outputs": [],
   "source": [
    "tmax = zeta_ref.shape[0]\n",
    "\n",
    "plt.figure(figsize=(15,5))\n",
    "plt.subplot(4,2,1)\n",
    "img_plot(zeta_ref[:tmax], title='$\\zeta$ (ref)', showxax=False);\n",
    "plt.subplot(4,2,2)\n",
    "img_plot(v_ref[:tmax], title='$v$ (ref)', showxax=False, showyax=False)\n",
    "\n",
    "plt.subplot(4,2,3)\n",
    "img_plot(zeta_ar_hyb[:tmax], title='$\\zeta$ (Hybridnet, AR)', showxax=False)\n",
    "plt.subplot(4,2,4)\n",
    "img_plot(v_ar_hyb[:tmax], title='$v$ (Fluxnet, AR)', showxax=False, showyax=False)\n",
    "\n",
    "plt.subplot(4,2,5)\n",
    "img_plot(zeta_ar_hyb[:tmax] - zeta_ref[:tmax], title='$\\zeta$ error (Hybridnet - ref, AR)', cmap='BrBG')\n",
    "plt.subplot(4,2,6)\n",
    "img_plot(v_ar_hyb[:tmax] - v_ref[:tmax], title='$v$ error (Hybridnet - ref, AR)', cmap='BrBG')\n",
    "\n",
    "plt.subplot(4,2,7)\n",
    "img_plot(zeta_ar_f[:tmax] - zeta_ref[:tmax], title='$\\zeta$ error (Fluxnet - ref, AR)', cmap='BrBG',showxax=False)\n",
    "plt.subplot(4,2,8)\n",
    "img_plot(v_ar_f[:tmax] - v_ref[:tmax], title='$v$ error (Fluxnet - ref, AR)', cmap='BrBG',showxax=False)\n",
    "\n"
   ]
  },
  {
   "cell_type": "code",
   "execution_count": null,
   "metadata": {},
   "outputs": [],
   "source": [
    "M = zeta_ref.sum(axis=-1).mean()\n",
    "YL = [0.1 * M, 10 * M]\n",
    "plt.semilogy(zeta_ref.sum(axis=-1),'k',label='ref')\n",
    "plt.semilogy(zeta_ar.sum(axis=-1),':',label='Unet',linewidth=3)\n",
    "plt.semilogy(zeta_ar_bc.sum(axis=-1),':',label='BCnet',linewidth=3)\n",
    "plt.semilogy(zeta_ar_f.sum(axis=-1),':',label='Fluxnet',linewidth=3)\n",
    "plt.semilogy(zeta_ar_hyb.sum(axis=-1),':',label='Hybridnet',linewidth=3)\n",
    "plt.ylim(YL)\n",
    "plt.xlim([0, 30])\n",
    "plt.legend()\n",
    "plt.ylabel('Total mass')\n",
    "plt.xlabel('Time step (autoregressive solution from IC)')"
   ]
  },
  {
   "cell_type": "markdown",
   "metadata": {},
   "source": [
    "## Task 6: Unsupervised learning with a physics-informed loss\n",
    "This approach uses the Imex integration scheme for the variables. The derivation of the discretized SWE in this case can be obtained with the following derivation,\n",
    "\n",
    "We discretize the momentum equation as follows:\n",
    "\n",
    "$u^{n+1} = u^n - \\Delta t C_D\\frac{1}{h}u^n|u^n|- \\Delta t g (1-w_{\\textbf{imp}}) \\frac{\\partial \\zeta^{n}}{\\partial x}-\\Delta t g w_{\\textbf{imp}} \\frac{\\partial \\zeta^{n+1}}{\\partial x}$\n",
    "\n",
    "where $w_{\\textbf{imp}}$ is a fixed parameter controlling weighting between implicit and explicit time stepping. The mass equation is discretized as:\n",
    "\n",
    "$\\zeta^{n+1} = \\zeta^n - \\Delta t (1-w_{\\textbf{imp}}) \\frac{\\partial h^n u^n}{\\partial x}-\\Delta t w_{\\textbf{imp}} \\frac{\\partial h^n u^{n+1}}{\\partial x}.\n",
    "$\n",
    "\n",
    "Recall that $h=h_0+\\zeta$ and $h_0$ is the undisturbed water depth. Inserting the momentum equation into the mass conservation equation, we obtain:\n",
    "\n",
    "$\\zeta^{n+1} = \\zeta^n - \\Delta t (1-w_{\\textbf{imp}}) \\frac{\\partial h^n u^n}{\\partial x}-\\Delta t w_{\\textbf{imp}} \\frac{\\partial h^nu^*}{\\partial x} + \\Delta t^2 w_{\\textbf{imp}}^2g\\frac{\\partial^2 h^n\\zeta^{n+1}}{\\partial x^2}$\n",
    "\n",
    "where $u^*$ is an explicit prediction for $u$:\n",
    "\n",
    "$u^* = u^n - \\Delta t c_D\\frac{1}{h}u^n|u^n|- \\Delta t g (1 - w_{\\textbf{imp}}) \\frac{\\partial \\zeta^{n}}{\\partial x}$\n",
    "\n",
    "The second order spatial derivatives are discretized using the second order finite central difference stencil. Then using $u^*$, we obtain the following expression for momentum equation:\n",
    "\n",
    "$\\zeta^{n+1}_i = \\frac{1}{1+c_E+c_W}\\bigg[\\zeta^n+\\text{div}+c_E\\zeta^{n+1}_{i+1}+c_W\\zeta^{n+1}_{i-1}\\bigg]$\n",
    "\n",
    "where $\\text{div} = - \\Delta t (1-w_{\\textbf{imp}})\\frac{\\partial h^n u^n}{\\partial x} -\\Delta t w_{\\textbf{imp}}\\frac{\\partial h^nu^*}{\\partial x}$, while $c_E$ and $c_W$ are defined as\n",
    "\n",
    "$c_E=\\frac{0.5\\Delta t^2w_{\\textbf{imp}}^2g (h_i^n+h_{i+1}^n)}{\\Delta x^2}$ if $h(i+1)>0$ and $0$ otherwise\n",
    "\n",
    "$c_W =\\frac{0.5\\Delta t^2w_{\\textbf{imp}}^2g (h_i^n+h_{i-1}^n)}{\\Delta x^2}$ if $h(i-1)>0$ and $0$ otherwise\n",
    "\n",
    "Then $\\zeta$ update equation describes a linear system of equations in $\\zeta^{n+1}$ that can be written in matrix-vector form\n",
    "\n",
    "$A \\zeta^{n+1} = b$\n",
    "\n",
    "where $A$ is a $N \\times N$ tridiagonal matrix ($N=L/\\Delta x$) with $A_{k,k}=1$, $A_{k, k - 1} = -\\frac{c_W}{1 + c_E + c_W}$, $A_{k, k + 1} = - \\frac{c_E}{1 + c_E + c_W}$ and all other elements zero. $b\\in\\mathbb R^N$ with $b = \\frac{\\zeta^n +div}{1 + c_E + c_W}$. Having obtained $\\zeta^{n+1}$, the new velocity $u^{n+1}$ is calculated as\n",
    "\n",
    "$u^{n+1} = u^* - \\Delta t g w_{\\textbf{imp}} \\frac{\\partial \\zeta^{n+1}}{\\partial x}$"
   ]
  },
  {
   "cell_type": "markdown",
   "metadata": {},
   "source": [
    "\n",
    "###  Our tasks are as follows:\n",
    "\n",
    "1- First, modify our UNet architecture to output only one channel.\n",
    "\n",
    "2- Create the loss for updating the $\\zeta$ values using the equation system $A \\zeta^{n+1} = b$.\n",
    "\n",
    "3- Update the velocity values using the formula $v^{n+1} = v^* - \\Delta t g w_{\\textbf{imp}} \\frac{\\partial \\zeta^{n+1}}{\\partial x}$. Hence we need a function accomplishing this.\n",
    "\n",
    "4-  Update the batch size and mask tensor. Call the dataset class for the initial conditions and disable normalization.\n",
    "\n",
    "5- Modify the training loop of our model.\n",
    "\n",
    "6- Run the training loop"
   ]
  },
  {
   "cell_type": "code",
   "execution_count": null,
   "metadata": {},
   "outputs": [],
   "source": [
    "# New physics informed loss function\n",
    "# Parameters for the given dataset of SWE.\n",
    "CD = 1.0e-3\n",
    "G = 9.81\n",
    "DT = 300.0\n",
    "W_IMP = 0.5\n",
    "H0 = 100.0\n",
    "DX = 10.0e3\n",
    "N = 256\n",
    "\n",
    "class HybridLoss(nn.Module):\n",
    "    def __init__(self):\n",
    "        super(HybridLoss, self).__init__()\n",
    "        self.mse_loss = nn.MSELoss()\n",
    "\n",
    "    def forward(self, zeta_dt, zeta_n, vel_n):\n",
    "        h_n = H0 + zeta_n\n",
    "        h_m = (h_n[..., 1:] + h_n[..., :-1]) / 2.0\n",
    "\n",
    "        zeta_dx = torch.diff(zeta_n, axis=-1) / DX\n",
    "        zeta_dx = torch.nn.functional.pad(zeta_dx, (1, 1), \"constant\", 0)\n",
    "        h_m = torch.nn.functional.pad(h_m, (1, 1), \"constant\", 1)\n",
    "        vel_star = (\n",
    "            vel_n\n",
    "            - DT * CD * torch.div(torch.mul(torch.abs(vel_n), vel_n), h_m)\n",
    "            - DT * G * (1 - W_IMP) * zeta_dx\n",
    "            - DT * G * W_IMP * zeta_dx\n",
    "        )\n",
    "        U = torch.mul(vel_n, h_m)\n",
    "        U_star = torch.mul(vel_star, h_m)\n",
    "        U_dx = (torch.diff(U, axis=-1)) / DX\n",
    "        U_star_dx = (torch.diff(U_star, axis=-1)) / DX\n",
    "        div = -DT * (1 - W_IMP) * U_dx - DT * W_IMP * U_star_dx\n",
    "\n",
    "        h_e = h_n + torch.roll(h_n, shifts=-1, dims=-1)\n",
    "        h_w = h_n + torch.roll(h_n, shifts=1, dims=-1)\n",
    "        h_e[..., -1] = 2 * h_n[..., -1]\n",
    "        h_w[..., 0] = 2 * h_n[..., 0]\n",
    "\n",
    "        h_e_dx2 = (h_e[..., :-2] - 2 * h_e[..., 1:-1] + h_e[..., 2:]) / (DX**2)\n",
    "        h_w_dx2 = (h_w[..., :-2] - 2 * h_w[..., 1:-1] + h_w[..., 2:]) / (DX**2)\n",
    "\n",
    "        c_e = DT**2 * W_IMP**2 * G * h_e_dx2\n",
    "        c_w = DT**2 * W_IMP**2 * G * h_w_dx2\n",
    "        diag_c = torch.ones(N)\n",
    "        diag_cm1 = torch.div(-c_w, 1 + c_e + c_w)\n",
    "        diag_cp1 = torch.div(-c_e, 1 + c_e + c_w)\n",
    "        diag_cm1 = torch.nn.functional.pad(diag_cm1, (1, 0), \"constant\", 0)\n",
    "        diag_cp1 = torch.nn.functional.pad(diag_cp1, (0, 1), \"constant\", 0)\n",
    "        b = torch.div(zeta_n[..., 1:-1] + div[..., 1:-1], 1 + c_e + c_w)\n",
    "        b = torch.nn.functional.pad(b, (1, 1), \"constant\", 0)\n",
    "        zeta_new = zeta_n + zeta_dt\n",
    "        A = torch.zeros(BATCH_SIZE, 1, N, N)\n",
    "        A[..., torch.arange(N), torch.arange(N)] = diag_c\n",
    "        A[..., torch.arange(N - 1), torch.arange(1, N)] = diag_cm1\n",
    "        A[..., torch.arange(1, N), torch.arange(N - 1)] = diag_cp1\n",
    "        loss = self.mse_loss(torch.matmul(A, zeta_new.unsqueeze(-1)), b.unsqueeze(-1))\n",
    "        return loss"
   ]
  },
  {
   "cell_type": "code",
   "execution_count": null,
   "metadata": {},
   "outputs": [],
   "source": [
    "# Velocity Integration function\n",
    "def integrate_vel(vel_n, zeta_new, zeta_old):\n",
    "    h_n = H0 + zeta_old\n",
    "    h_m = (h_n[..., 1:] + h_n[..., :-1]) / 2.0\n",
    "\n",
    "    zeta_old_dx = torch.diff(zeta_old, axis=-1) / DX\n",
    "    zeta_new_dx = torch.diff(zeta_new, axis=-1) / DX\n",
    "    zeta_old_dx = torch.nn.functional.pad(zeta_old_dx, (1, 1), \"constant\", 0)\n",
    "    zeta_new_dx = torch.nn.functional.pad(zeta_new_dx, (1, 1), \"constant\", 0)\n",
    "    h_m = torch.nn.functional.pad(h_m, (1, 1), \"constant\", 1)\n",
    "\n",
    "    vel_star = (\n",
    "        vel_n\n",
    "        - DT * CD * torch.div(torch.mul(torch.abs(vel_n), vel_n), h_m)\n",
    "        - DT * G * (1 - W_IMP) * zeta_old_dx\n",
    "        - DT * G * W_IMP * zeta_new_dx\n",
    "    )\n",
    "    vel_new = vel_star - DT * G * W_IMP * zeta_new_dx\n",
    "    return vel_new"
   ]
  },
  {
   "cell_type": "code",
   "execution_count": null,
   "metadata": {},
   "outputs": [],
   "source": [
    "BATCH_SIZE = 1\n",
    "train_dataset = SWDataset(file_path=\"simulation_data.h5\", order=ORDER, numtime=NUMTIME, mode=\"train\", normalize=False)\n",
    "valid_dataset = SWDataset(file_path=\"simulation_data.h5\", order=ORDER, numtime=NUMTIME, mode=\"valid\", normalize=False)\n",
    "\n",
    "dataloader_train = DataLoader(train_dataset, batch_size=BATCH_SIZE, shuffle=False, drop_last=True)\n",
    "dataloader_valid = DataLoader(valid_dataset, batch_size=BATCH_SIZE, shuffle=False, drop_last=True)"
   ]
  },
  {
   "cell_type": "code",
   "execution_count": null,
   "metadata": {},
   "outputs": [],
   "source": [
    "# Training Loop for the hybrid model\n",
    "class PITrainerZeta:\n",
    "    def __init__(self, model, device, train_dataset, optimizer, criterion, writer, epochs):\n",
    "        self.model = model\n",
    "        self.device = device\n",
    "        self.train_dataset = train_dataset\n",
    "        self.optimizer = optimizer\n",
    "        self.criterion = criterion\n",
    "        self.writer = writer\n",
    "        self.EPOCHS = EPOCHS\n",
    "        self.NUMTIME = NUMTIME\n",
    "    def train_epoch(self):\n",
    "        train_losses = []\n",
    "        self.model.train()\n",
    "\n",
    "        init_zeta, init_vel = self.train_dataset.get_initial_conditions()\n",
    "        self.optimizer.zero_grad()\n",
    "        accumulated_loss = 0\n",
    "        input_zeta, input_vel = init_zeta.to(self.device), init_vel.to(self.device)\n",
    "\n",
    "        for _ in range(self.NUMTIME):\n",
    "            output_zeta_dt = self.model(input_zeta, input_vel)\n",
    "            next_zeta = input_zeta + output_zeta_dt\n",
    "            next_vel = integrate_vel(input_vel, next_zeta, input_zeta)\n",
    "\n",
    "            unsupervised_loss = self.criterion(output_zeta_dt, input_zeta, input_vel)\n",
    "            accumulated_loss += unsupervised_loss\n",
    "\n",
    "            input_zeta, input_vel = next_zeta, next_vel\n",
    "\n",
    "        accumulated_loss.backward()\n",
    "        self.optimizer.step()\n",
    "        train_losses.append(accumulated_loss.item())\n",
    "\n",
    "        return np.mean(train_losses)\n",
    "\n",
    "    def train(self):\n",
    "        for epoch in range(self.EPOCHS):\n",
    "            train_loss = self.train_epoch()\n",
    "            self.writer.add_scalar(\"Loss/train\", train_loss, epoch)\n",
    "\n",
    "            print(\n",
    "                f\"Epoch {epoch+1}/{self.EPOCHS} Train Loss: {train_loss:.8f}\"\n",
    "            )\n",
    "\n",
    "        torch.save(self.model.state_dict(), \"unet_model.pth\")\n",
    "\n",
    "batch = next(iter(dataloader_train))\n",
    "input_vel_batch = batch[0][1]\n",
    "mask = torch.ones_like(input_vel_batch).to(device)\n",
    "mask[..., 0] = 0\n",
    "mask[..., -1] = 0\n",
    "model = ZetaUNet(order=ORDER, mask=mask).to(device)\n",
    "optimizer = optim.Adam(model.parameters(), lr=LR)\n",
    "criterion = HybridLoss()\n",
    "trainer = PITrainerZeta(model, device, train_dataset, optimizer, criterion, writer, epochs=EPOCHS)\n",
    "trainer.train()"
   ]
  },
  {
   "cell_type": "markdown",
   "metadata": {},
   "source": [
    "### Step 11: Physical Constraints Using the semi-implicit discretization\n",
    "\n",
    "The physical constraints can also be applied using the discretized form of the SWE. Network can output both velocity and elevations and the outputs can be forced to satisfy the following discretized equation\n",
    "\n",
    "$u^{n+1} = u^n - \\Delta t C_D\\frac{1}{h}u^n|u^n|- \\Delta t g (1-w_{\\textbf{imp}}) \\frac{\\partial \\zeta^{n}}{\\partial x}-\\Delta t g w_{\\textbf{imp}} \\frac{\\partial \\zeta^{n+1}}{\\partial x}$\n",
    "\n",
    "$\\zeta^{n+1} = \\zeta^n - \\Delta t (1-w_{\\textbf{imp}}) \\frac{\\partial h^n u^n}{\\partial x}-\\Delta t w_{\\textbf{imp}} \\frac{\\partial h^n u^{n+1}}{\\partial x}.\n",
    "$\n"
   ]
  },
  {
   "cell_type": "markdown",
   "metadata": {},
   "source": [
    "\n",
    "###  Our tasks are as follows:\n",
    "\n",
    "1- Create the loss for updating the $\\zeta$ and $v$ values using the semi implicit discretization of SWE.\n",
    "\n",
    "2- Call the UNet model which outputs both field variables.\n",
    "\n",
    "3- Modify the training loop of our model.\n",
    "\n",
    "4- Run the training loop."
   ]
  },
  {
   "cell_type": "code",
   "execution_count": null,
   "metadata": {},
   "outputs": [],
   "source": [
    "# Physics informed loss function for Semi implicit discretized SWE\n",
    "class SemiImpLoss(nn.Module):\n",
    "    def __init__(self):\n",
    "        super(SemiImpLoss, self).__init__()\n",
    "        self.mse_loss = nn.MSELoss()\n",
    "\n",
    "    def forward(self, zeta_dt, vel_dt, zeta_n, vel_n):\n",
    "        h_n = H0 + zeta_n\n",
    "        h_n_tilde = (h_n[..., :-1] + h_n[..., 1:]) / 2.0\n",
    "\n",
    "        zeta_nx = torch.diff(zeta_n, axis=-1) / DX\n",
    "        zeta_n1x = torch.diff(zeta_n + zeta_dt, axis=-1) / DX\n",
    "        zeta_nx = torch.nn.functional.pad(zeta_nx, (1, 1), \"constant\", 0)\n",
    "        zeta_n1x = torch.nn.functional.pad(zeta_n1x, (1, 1), \"constant\", 0)\n",
    "\n",
    "        h_n_tilde = torch.nn.functional.pad(h_n_tilde, (1, 1), \"constant\", 1)\n",
    "\n",
    "        U_nx = torch.diff(torch.mul(h_n_tilde, vel_n))\n",
    "        U_n1x = torch.diff(torch.mul(h_n_tilde, vel_n + vel_dt))\n",
    "\n",
    "        mass_loss = vel_dt + DT * (\n",
    "            CD * torch.div(torch.mul(vel_n, torch.abs(vel_n)), h_n_tilde)\n",
    "            + G * (1 - W_IMP) * zeta_nx\n",
    "            + G * W_IMP * zeta_n1x\n",
    "        )\n",
    "        mom_loss = zeta_dt + DT * (1 - W_IMP) * U_nx + DT * W_IMP * U_n1x\n",
    "\n",
    "        loss1 = torch.mean(mass_loss**2)\n",
    "        loss2 = torch.mean(mom_loss**2)\n",
    "\n",
    "        return loss1 + loss2"
   ]
  },
  {
   "cell_type": "code",
   "execution_count": null,
   "metadata": {},
   "outputs": [],
   "source": [
    "# Training Loop for the hybrid model\n",
    "class PITrainerZetaV:\n",
    "    def __init__(self, model, device, train_dataset, optimizer, criterion, writer, epochs):\n",
    "        self.model = model\n",
    "        self.device = device\n",
    "        self.train_dataset = train_dataset\n",
    "        self.optimizer = optimizer\n",
    "        self.criterion = criterion\n",
    "        self.writer = writer\n",
    "        self.EPOCHS = EPOCHS\n",
    "\n",
    "    def train_epoch(self):\n",
    "        train_losses = []\n",
    "        self.model.train()\n",
    "\n",
    "        init_zeta, init_vel = self.train_dataset.get_initial_conditions()\n",
    "        self.optimizer.zero_grad()\n",
    "        accumulated_loss = 0\n",
    "        input_zeta, input_vel = init_zeta.to(self.device), init_vel.to(self.device)\n",
    "\n",
    "        for _ in range(self.NUMTIME):\n",
    "            delta_zeta, delta_vel = self.model(input_zeta, input_vel, mask)\n",
    "            next_zeta = input_zeta + delta_zeta\n",
    "            next_vel = input_vel + delta_vel\n",
    "\n",
    "            unsupervised_loss = self.criterion(delta_zeta, delta_vel, input_zeta, input_vel)\n",
    "            accumulated_loss += unsupervised_loss\n",
    "\n",
    "            input_zeta, input_vel = next_zeta, next_vel\n",
    "\n",
    "        accumulated_loss.backward()\n",
    "        self.optimizer.step()\n",
    "        train_losses.append(accumulated_loss.item())\n",
    "\n",
    "        return np.mean(train_losses)\n",
    "\n",
    "    def train(self):\n",
    "        for epoch in range(self.EPOCHS):\n",
    "            train_loss = self.train_epoch()\n",
    "            self.writer.add_scalar(\"Loss/train\", train_loss, epoch)\n",
    "\n",
    "            print(\n",
    "                f\"Epoch {epoch+1}/{self.EPOCHS} Train Loss: {train_loss:.8f}\"\n",
    "            )\n",
    "\n",
    "        torch.save(self.model.state_dict(), \"unet_model.pth\")\n",
    "\n",
    "model = UnetMask(order=ORDER).to(device)\n",
    "optimizer = optim.Adam(model.parameters(), lr=LR)\n",
    "criterion = SemiImpLoss()\n",
    "trainer = PITrainerZetaV(model, device, dataloader_train, optimizer, criterion, writer, epochs=EPOCHS)\n",
    "trainer.train()"
   ]
  }
 ],
 "metadata": {
  "colab": {
   "provenance": []
  },
  "kernelspec": {
   "display_name": "Python 3 (ipykernel)",
   "language": "python",
   "name": "python3"
  },
  "language_info": {
   "codemirror_mode": {
    "name": "ipython",
    "version": 3
   },
   "file_extension": ".py",
   "mimetype": "text/x-python",
   "name": "python",
   "nbconvert_exporter": "python",
   "pygments_lexer": "ipython3"
  }
 },
 "nbformat": 4,
 "nbformat_minor": 1
}
