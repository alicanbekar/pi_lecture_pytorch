{
  "nbformat": 4,
  "nbformat_minor": 0,
  "metadata": {
    "colab": {
      "provenance": []
    },
    "kernelspec": {
      "name": "python3",
      "display_name": "Python 3"
    },
    "language_info": {
      "name": "python"
    }
  },
  "cells": [
    {
      "cell_type": "code",
      "source": [
        "from matplotlib import pyplot as plt\n",
        "from mpl_toolkits.axes_grid1 import make_axes_locatable\n",
        "from IPython.display import clear_output, display\n",
        "from matplotlib.gridspec import GridSpec\n",
        "plt.rcParams['mathtext.fontset'] = 'cm'\n",
        "plt.rcParams['font.family'] = 'STIXGeneral'"
      ],
      "metadata": {
        "id": "q5KJkKwg19EZ"
      },
      "execution_count": null,
      "outputs": []
    },
    {
      "cell_type": "code",
      "execution_count": null,
      "metadata": {
        "id": "JSBmeOfa08_K"
      },
      "outputs": [],
      "source": [
        "class ContourPlot:\n",
        "    def __init__(self):\n",
        "        self.data_rows = []\n",
        "        self.title_rows = []\n",
        "        self.showxax_rows = []\n",
        "        self.showyax_rows = []\n",
        "        self.cmap_rows = []\n",
        "\n",
        "    def img_plot(self, ax, x, title=None, showxax=True, showyax=True, cmap=None):\n",
        "        if cmap is None:\n",
        "            cmap = 'viridis'\n",
        "        im = ax.imshow(x.T, cmap=cmap)\n",
        "        if showxax:\n",
        "            ax.set_xlabel('Time step')\n",
        "        else:\n",
        "            ax.get_xaxis().set_visible(False)\n",
        "        if showyax:\n",
        "            ax.set_ylabel('Position index')\n",
        "        else:\n",
        "            ax.get_yaxis().set_visible(False)\n",
        "\n",
        "        # Adjust the colorbar size\n",
        "        divider = make_axes_locatable(ax)\n",
        "        cax = divider.append_axes(\"right\", size=\"5%\", pad=0.05)\n",
        "        plt.colorbar(im, cax=cax)\n",
        "\n",
        "        if title is not None:\n",
        "            ax.set_title(title)\n",
        "\n",
        "    def add_data(self, data, title=None, showxax=True, showyax=True, cmap=None):\n",
        "        self.data_rows.append(data)\n",
        "        self.title_rows.append(title or [\"\"] * len(data))\n",
        "        self.showxax_rows.append(showxax if isinstance(showxax, (list, tuple)) else [showxax] * len(data))\n",
        "        self.showyax_rows.append(showyax if isinstance(showyax, (list, tuple)) else [showyax] * len(data))\n",
        "        self.cmap_rows.append(cmap or ['viridis'] * len(data))\n",
        "\n",
        "    def plot_data(self, global_title=None):\n",
        "        total_rows = len(self.data_rows)\n",
        "        total_cols = len(self.data_rows[0]) if self.data_rows else 0\n",
        "\n",
        "        fig = plt.figure(figsize=(7 * total_cols, 2 * total_rows))\n",
        "        gs = GridSpec(total_rows, total_cols, figure=fig, wspace=0.3, hspace=0.5)\n",
        "\n",
        "        for row_idx, (data_row, title_row, showxax_row, showyax_row, cmap_row) in enumerate(zip(self.data_rows, self.title_rows, self.showxax_rows, self.showyax_rows, self.cmap_rows)):\n",
        "            for col_idx, x in enumerate(data_row):\n",
        "                ax = fig.add_subplot(gs[row_idx, col_idx])\n",
        "                self.img_plot(ax, x, title=title_row[col_idx],\n",
        "                              showxax=showxax_row[col_idx],\n",
        "                              showyax=showyax_row[col_idx],\n",
        "                              cmap=cmap_row[col_idx])\n",
        "\n",
        "        if global_title:\n",
        "            fig.suptitle(global_title, fontsize=12)\n",
        "        # Update the figure in Jupyter\n",
        "        clear_output(wait=True)\n",
        "        display(fig)\n",
        "        plt.close(fig)  # Close the figure after displaying it"
      ]
    },
    {
      "cell_type": "code",
      "source": [
        "class OverlayLinePlot:\n",
        "    def __init__(self, tsteps):\n",
        "        self.data_zeta = []  # Contains datasets for zeta.\n",
        "        self.data_v = []    # Contains datasets for v.\n",
        "        self.labels = []\n",
        "        self.tsteps = tsteps\n",
        "\n",
        "    def add_data(self, zeta_data, v_data, label):\n",
        "        \"\"\"Adds data for zeta and v.\"\"\"\n",
        "        self.data_zeta.append(zeta_data)\n",
        "        self.data_v.append(v_data)\n",
        "        self.labels.append(label)\n",
        "\n",
        "    def plot_data(self, title=None):\n",
        "        num_tsteps = len(self.tsteps)\n",
        "\n",
        "        # Adjusting the figsize here\n",
        "        fig, axs = plt.subplots(num_tsteps, 2, figsize=(10, 2 * num_tsteps))\n",
        "\n",
        "        for i, t in enumerate(self.tsteps):\n",
        "            # Zeta plot\n",
        "            ax_left = axs[i, 0]\n",
        "            for data, label in zip(self.data_zeta, self.labels):\n",
        "                ax_left.plot(data[t], label=label)\n",
        "            ax_left.set_ylabel(f't={t}', rotation=0, horizontalalignment='right')\n",
        "            if i == 0:\n",
        "                ax_left.set_title('$\\zeta$')\n",
        "            if i == num_tsteps - 1:\n",
        "                ax_left.set_xlabel('time step')\n",
        "            ax_left.legend()\n",
        "\n",
        "            # v plot\n",
        "            ax_right = axs[i, 1]\n",
        "            for data, label in zip(self.data_v, self.labels):\n",
        "                ax_right.plot(data[t], label=label)\n",
        "            if i == 0:\n",
        "                ax_right.set_title('$v$')\n",
        "            if i == num_tsteps - 1:\n",
        "                ax_right.set_xlabel('time step')\n",
        "\n",
        "        if title:\n",
        "            fig.suptitle(title, fontsize=16)\n",
        "        # Update the figure in Jupyter\n",
        "        clear_output(wait=True)\n",
        "        display(fig)\n",
        "        plt.close(fig)"
      ],
      "metadata": {
        "id": "s9xsdkcM1H62"
      },
      "execution_count": null,
      "outputs": []
    }
  ]
}